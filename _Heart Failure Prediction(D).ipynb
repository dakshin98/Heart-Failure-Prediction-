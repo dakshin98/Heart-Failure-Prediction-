{
 "cells": [
  {
   "cell_type": "markdown",
   "id": "41723a06",
   "metadata": {},
   "source": [
    "# Heart Failure Prediction Project\n",
    "\n",
    "## Models- Logistic Regression,KNN,DecisionTree,Random Forest,Gradient Boosting Classifier"
   ]
  },
  {
   "cell_type": "markdown",
   "id": "d0ae824c",
   "metadata": {},
   "source": [
    "###  Import Required Libraries "
   ]
  },
  {
   "cell_type": "code",
   "execution_count": 6,
   "id": "e1969e40",
   "metadata": {},
   "outputs": [],
   "source": [
    "import numpy as np \n",
    "import pandas as pd \n",
    "import matplotlib.pyplot as plt \n",
    "import seaborn as sns \n",
    "from sklearn.metrics import confusion_matrix\n",
    "from sklearn.metrics import roc_curve,auc,roc_auc_score\n",
    "from sklearn.metrics import accuracy_score\n",
    "from sklearn.metrics import classification_report\n",
    "from sklearn import metrics\n",
    "from sklearn.model_selection import train_test_split\n",
    "import seaborn as sns\n",
    "import xgboost\n",
    "from sklearn.ensemble import GradientBoostingClassifier\n",
    "from sklearn.ensemble import RandomForestClassifier\n",
    "from sklearn.tree import DecisionTreeClassifier\n",
    "from sklearn.neighbors import KNeighborsClassifier\n",
    "from sklearn.linear_model import LogisticRegression\n",
    "\n"
   ]
  },
  {
   "cell_type": "markdown",
   "id": "35b9c5d1",
   "metadata": {},
   "source": [
    "### Reading Csv File and Checking Info"
   ]
  },
  {
   "cell_type": "code",
   "execution_count": 7,
   "id": "ed10397c",
   "metadata": {
    "scrolled": true
   },
   "outputs": [],
   "source": [
    "hf=pd.read_csv(r'C:\\Users\\DAKSHIN\\Desktop\\PGP Analytics\\kaggle\\heart_failure_clinical_records_dataset.csv')"
   ]
  },
  {
   "cell_type": "code",
   "execution_count": 8,
   "id": "ec61b13d",
   "metadata": {},
   "outputs": [
    {
     "name": "stdout",
     "output_type": "stream",
     "text": [
      "<class 'pandas.core.frame.DataFrame'>\n",
      "RangeIndex: 299 entries, 0 to 298\n",
      "Data columns (total 13 columns):\n",
      " #   Column                    Non-Null Count  Dtype  \n",
      "---  ------                    --------------  -----  \n",
      " 0   age                       299 non-null    float64\n",
      " 1   anaemia                   299 non-null    int64  \n",
      " 2   creatinine_phosphokinase  299 non-null    int64  \n",
      " 3   diabetes                  299 non-null    int64  \n",
      " 4   ejection_fraction         299 non-null    int64  \n",
      " 5   high_blood_pressure       299 non-null    int64  \n",
      " 6   platelets                 299 non-null    float64\n",
      " 7   serum_creatinine          299 non-null    float64\n",
      " 8   serum_sodium              299 non-null    int64  \n",
      " 9   sex                       299 non-null    int64  \n",
      " 10  smoking                   299 non-null    int64  \n",
      " 11  time                      299 non-null    int64  \n",
      " 12  DEATH_EVENT               299 non-null    int64  \n",
      "dtypes: float64(3), int64(10)\n",
      "memory usage: 30.5 KB\n"
     ]
    }
   ],
   "source": [
    "hf.info()"
   ]
  },
  {
   "cell_type": "markdown",
   "id": "39338d30",
   "metadata": {},
   "source": [
    "#time= Follow up period(days)"
   ]
  },
  {
   "cell_type": "code",
   "execution_count": 9,
   "id": "346e75c3",
   "metadata": {
    "scrolled": true
   },
   "outputs": [
    {
     "data": {
      "text/html": [
       "<div>\n",
       "<style scoped>\n",
       "    .dataframe tbody tr th:only-of-type {\n",
       "        vertical-align: middle;\n",
       "    }\n",
       "\n",
       "    .dataframe tbody tr th {\n",
       "        vertical-align: top;\n",
       "    }\n",
       "\n",
       "    .dataframe thead th {\n",
       "        text-align: right;\n",
       "    }\n",
       "</style>\n",
       "<table border=\"1\" class=\"dataframe\">\n",
       "  <thead>\n",
       "    <tr style=\"text-align: right;\">\n",
       "      <th></th>\n",
       "      <th>age</th>\n",
       "      <th>anaemia</th>\n",
       "      <th>creatinine_phosphokinase</th>\n",
       "      <th>diabetes</th>\n",
       "      <th>ejection_fraction</th>\n",
       "      <th>high_blood_pressure</th>\n",
       "      <th>platelets</th>\n",
       "      <th>serum_creatinine</th>\n",
       "      <th>serum_sodium</th>\n",
       "      <th>sex</th>\n",
       "      <th>smoking</th>\n",
       "      <th>time</th>\n",
       "      <th>DEATH_EVENT</th>\n",
       "    </tr>\n",
       "  </thead>\n",
       "  <tbody>\n",
       "    <tr>\n",
       "      <th>0</th>\n",
       "      <td>75.0</td>\n",
       "      <td>0</td>\n",
       "      <td>582</td>\n",
       "      <td>0</td>\n",
       "      <td>20</td>\n",
       "      <td>1</td>\n",
       "      <td>265000.00</td>\n",
       "      <td>1.9</td>\n",
       "      <td>130</td>\n",
       "      <td>1</td>\n",
       "      <td>0</td>\n",
       "      <td>4</td>\n",
       "      <td>1</td>\n",
       "    </tr>\n",
       "    <tr>\n",
       "      <th>1</th>\n",
       "      <td>55.0</td>\n",
       "      <td>0</td>\n",
       "      <td>7861</td>\n",
       "      <td>0</td>\n",
       "      <td>38</td>\n",
       "      <td>0</td>\n",
       "      <td>263358.03</td>\n",
       "      <td>1.1</td>\n",
       "      <td>136</td>\n",
       "      <td>1</td>\n",
       "      <td>0</td>\n",
       "      <td>6</td>\n",
       "      <td>1</td>\n",
       "    </tr>\n",
       "    <tr>\n",
       "      <th>2</th>\n",
       "      <td>65.0</td>\n",
       "      <td>0</td>\n",
       "      <td>146</td>\n",
       "      <td>0</td>\n",
       "      <td>20</td>\n",
       "      <td>0</td>\n",
       "      <td>162000.00</td>\n",
       "      <td>1.3</td>\n",
       "      <td>129</td>\n",
       "      <td>1</td>\n",
       "      <td>1</td>\n",
       "      <td>7</td>\n",
       "      <td>1</td>\n",
       "    </tr>\n",
       "    <tr>\n",
       "      <th>3</th>\n",
       "      <td>50.0</td>\n",
       "      <td>1</td>\n",
       "      <td>111</td>\n",
       "      <td>0</td>\n",
       "      <td>20</td>\n",
       "      <td>0</td>\n",
       "      <td>210000.00</td>\n",
       "      <td>1.9</td>\n",
       "      <td>137</td>\n",
       "      <td>1</td>\n",
       "      <td>0</td>\n",
       "      <td>7</td>\n",
       "      <td>1</td>\n",
       "    </tr>\n",
       "    <tr>\n",
       "      <th>4</th>\n",
       "      <td>65.0</td>\n",
       "      <td>1</td>\n",
       "      <td>160</td>\n",
       "      <td>1</td>\n",
       "      <td>20</td>\n",
       "      <td>0</td>\n",
       "      <td>327000.00</td>\n",
       "      <td>2.7</td>\n",
       "      <td>116</td>\n",
       "      <td>0</td>\n",
       "      <td>0</td>\n",
       "      <td>8</td>\n",
       "      <td>1</td>\n",
       "    </tr>\n",
       "    <tr>\n",
       "      <th>5</th>\n",
       "      <td>90.0</td>\n",
       "      <td>1</td>\n",
       "      <td>47</td>\n",
       "      <td>0</td>\n",
       "      <td>40</td>\n",
       "      <td>1</td>\n",
       "      <td>204000.00</td>\n",
       "      <td>2.1</td>\n",
       "      <td>132</td>\n",
       "      <td>1</td>\n",
       "      <td>1</td>\n",
       "      <td>8</td>\n",
       "      <td>1</td>\n",
       "    </tr>\n",
       "    <tr>\n",
       "      <th>6</th>\n",
       "      <td>75.0</td>\n",
       "      <td>1</td>\n",
       "      <td>246</td>\n",
       "      <td>0</td>\n",
       "      <td>15</td>\n",
       "      <td>0</td>\n",
       "      <td>127000.00</td>\n",
       "      <td>1.2</td>\n",
       "      <td>137</td>\n",
       "      <td>1</td>\n",
       "      <td>0</td>\n",
       "      <td>10</td>\n",
       "      <td>1</td>\n",
       "    </tr>\n",
       "    <tr>\n",
       "      <th>7</th>\n",
       "      <td>60.0</td>\n",
       "      <td>1</td>\n",
       "      <td>315</td>\n",
       "      <td>1</td>\n",
       "      <td>60</td>\n",
       "      <td>0</td>\n",
       "      <td>454000.00</td>\n",
       "      <td>1.1</td>\n",
       "      <td>131</td>\n",
       "      <td>1</td>\n",
       "      <td>1</td>\n",
       "      <td>10</td>\n",
       "      <td>1</td>\n",
       "    </tr>\n",
       "    <tr>\n",
       "      <th>8</th>\n",
       "      <td>65.0</td>\n",
       "      <td>0</td>\n",
       "      <td>157</td>\n",
       "      <td>0</td>\n",
       "      <td>65</td>\n",
       "      <td>0</td>\n",
       "      <td>263358.03</td>\n",
       "      <td>1.5</td>\n",
       "      <td>138</td>\n",
       "      <td>0</td>\n",
       "      <td>0</td>\n",
       "      <td>10</td>\n",
       "      <td>1</td>\n",
       "    </tr>\n",
       "    <tr>\n",
       "      <th>9</th>\n",
       "      <td>80.0</td>\n",
       "      <td>1</td>\n",
       "      <td>123</td>\n",
       "      <td>0</td>\n",
       "      <td>35</td>\n",
       "      <td>1</td>\n",
       "      <td>388000.00</td>\n",
       "      <td>9.4</td>\n",
       "      <td>133</td>\n",
       "      <td>1</td>\n",
       "      <td>1</td>\n",
       "      <td>10</td>\n",
       "      <td>1</td>\n",
       "    </tr>\n",
       "  </tbody>\n",
       "</table>\n",
       "</div>"
      ],
      "text/plain": [
       "    age  anaemia  creatinine_phosphokinase  diabetes  ejection_fraction  \\\n",
       "0  75.0        0                       582         0                 20   \n",
       "1  55.0        0                      7861         0                 38   \n",
       "2  65.0        0                       146         0                 20   \n",
       "3  50.0        1                       111         0                 20   \n",
       "4  65.0        1                       160         1                 20   \n",
       "5  90.0        1                        47         0                 40   \n",
       "6  75.0        1                       246         0                 15   \n",
       "7  60.0        1                       315         1                 60   \n",
       "8  65.0        0                       157         0                 65   \n",
       "9  80.0        1                       123         0                 35   \n",
       "\n",
       "   high_blood_pressure  platelets  serum_creatinine  serum_sodium  sex  \\\n",
       "0                    1  265000.00               1.9           130    1   \n",
       "1                    0  263358.03               1.1           136    1   \n",
       "2                    0  162000.00               1.3           129    1   \n",
       "3                    0  210000.00               1.9           137    1   \n",
       "4                    0  327000.00               2.7           116    0   \n",
       "5                    1  204000.00               2.1           132    1   \n",
       "6                    0  127000.00               1.2           137    1   \n",
       "7                    0  454000.00               1.1           131    1   \n",
       "8                    0  263358.03               1.5           138    0   \n",
       "9                    1  388000.00               9.4           133    1   \n",
       "\n",
       "   smoking  time  DEATH_EVENT  \n",
       "0        0     4            1  \n",
       "1        0     6            1  \n",
       "2        1     7            1  \n",
       "3        0     7            1  \n",
       "4        0     8            1  \n",
       "5        1     8            1  \n",
       "6        0    10            1  \n",
       "7        1    10            1  \n",
       "8        0    10            1  \n",
       "9        1    10            1  "
      ]
     },
     "execution_count": 9,
     "metadata": {},
     "output_type": "execute_result"
    }
   ],
   "source": [
    "hf.head(10)"
   ]
  },
  {
   "cell_type": "markdown",
   "id": "b52f7a0b",
   "metadata": {},
   "source": [
    "### Renaming Columns "
   ]
  },
  {
   "cell_type": "code",
   "execution_count": 10,
   "id": "6b86edfe",
   "metadata": {},
   "outputs": [],
   "source": [
    "hf = hf.rename(columns = {'ejection_fraction': 'Blood_fraction', 'creatinine_phosphokinase': 'Creatine kinase',}, inplace = False)"
   ]
  },
  {
   "cell_type": "code",
   "execution_count": 11,
   "id": "048edc1a",
   "metadata": {},
   "outputs": [
    {
     "data": {
      "text/html": [
       "<div>\n",
       "<style scoped>\n",
       "    .dataframe tbody tr th:only-of-type {\n",
       "        vertical-align: middle;\n",
       "    }\n",
       "\n",
       "    .dataframe tbody tr th {\n",
       "        vertical-align: top;\n",
       "    }\n",
       "\n",
       "    .dataframe thead th {\n",
       "        text-align: right;\n",
       "    }\n",
       "</style>\n",
       "<table border=\"1\" class=\"dataframe\">\n",
       "  <thead>\n",
       "    <tr style=\"text-align: right;\">\n",
       "      <th></th>\n",
       "      <th>age</th>\n",
       "      <th>anaemia</th>\n",
       "      <th>Creatine kinase</th>\n",
       "      <th>diabetes</th>\n",
       "      <th>Blood_fraction</th>\n",
       "      <th>high_blood_pressure</th>\n",
       "      <th>platelets</th>\n",
       "      <th>serum_creatinine</th>\n",
       "      <th>serum_sodium</th>\n",
       "      <th>sex</th>\n",
       "      <th>smoking</th>\n",
       "      <th>time</th>\n",
       "      <th>DEATH_EVENT</th>\n",
       "    </tr>\n",
       "  </thead>\n",
       "  <tbody>\n",
       "    <tr>\n",
       "      <th>0</th>\n",
       "      <td>75.0</td>\n",
       "      <td>0</td>\n",
       "      <td>582</td>\n",
       "      <td>0</td>\n",
       "      <td>20</td>\n",
       "      <td>1</td>\n",
       "      <td>265000.00</td>\n",
       "      <td>1.9</td>\n",
       "      <td>130</td>\n",
       "      <td>1</td>\n",
       "      <td>0</td>\n",
       "      <td>4</td>\n",
       "      <td>1</td>\n",
       "    </tr>\n",
       "    <tr>\n",
       "      <th>1</th>\n",
       "      <td>55.0</td>\n",
       "      <td>0</td>\n",
       "      <td>7861</td>\n",
       "      <td>0</td>\n",
       "      <td>38</td>\n",
       "      <td>0</td>\n",
       "      <td>263358.03</td>\n",
       "      <td>1.1</td>\n",
       "      <td>136</td>\n",
       "      <td>1</td>\n",
       "      <td>0</td>\n",
       "      <td>6</td>\n",
       "      <td>1</td>\n",
       "    </tr>\n",
       "    <tr>\n",
       "      <th>2</th>\n",
       "      <td>65.0</td>\n",
       "      <td>0</td>\n",
       "      <td>146</td>\n",
       "      <td>0</td>\n",
       "      <td>20</td>\n",
       "      <td>0</td>\n",
       "      <td>162000.00</td>\n",
       "      <td>1.3</td>\n",
       "      <td>129</td>\n",
       "      <td>1</td>\n",
       "      <td>1</td>\n",
       "      <td>7</td>\n",
       "      <td>1</td>\n",
       "    </tr>\n",
       "    <tr>\n",
       "      <th>3</th>\n",
       "      <td>50.0</td>\n",
       "      <td>1</td>\n",
       "      <td>111</td>\n",
       "      <td>0</td>\n",
       "      <td>20</td>\n",
       "      <td>0</td>\n",
       "      <td>210000.00</td>\n",
       "      <td>1.9</td>\n",
       "      <td>137</td>\n",
       "      <td>1</td>\n",
       "      <td>0</td>\n",
       "      <td>7</td>\n",
       "      <td>1</td>\n",
       "    </tr>\n",
       "    <tr>\n",
       "      <th>4</th>\n",
       "      <td>65.0</td>\n",
       "      <td>1</td>\n",
       "      <td>160</td>\n",
       "      <td>1</td>\n",
       "      <td>20</td>\n",
       "      <td>0</td>\n",
       "      <td>327000.00</td>\n",
       "      <td>2.7</td>\n",
       "      <td>116</td>\n",
       "      <td>0</td>\n",
       "      <td>0</td>\n",
       "      <td>8</td>\n",
       "      <td>1</td>\n",
       "    </tr>\n",
       "    <tr>\n",
       "      <th>5</th>\n",
       "      <td>90.0</td>\n",
       "      <td>1</td>\n",
       "      <td>47</td>\n",
       "      <td>0</td>\n",
       "      <td>40</td>\n",
       "      <td>1</td>\n",
       "      <td>204000.00</td>\n",
       "      <td>2.1</td>\n",
       "      <td>132</td>\n",
       "      <td>1</td>\n",
       "      <td>1</td>\n",
       "      <td>8</td>\n",
       "      <td>1</td>\n",
       "    </tr>\n",
       "    <tr>\n",
       "      <th>6</th>\n",
       "      <td>75.0</td>\n",
       "      <td>1</td>\n",
       "      <td>246</td>\n",
       "      <td>0</td>\n",
       "      <td>15</td>\n",
       "      <td>0</td>\n",
       "      <td>127000.00</td>\n",
       "      <td>1.2</td>\n",
       "      <td>137</td>\n",
       "      <td>1</td>\n",
       "      <td>0</td>\n",
       "      <td>10</td>\n",
       "      <td>1</td>\n",
       "    </tr>\n",
       "    <tr>\n",
       "      <th>7</th>\n",
       "      <td>60.0</td>\n",
       "      <td>1</td>\n",
       "      <td>315</td>\n",
       "      <td>1</td>\n",
       "      <td>60</td>\n",
       "      <td>0</td>\n",
       "      <td>454000.00</td>\n",
       "      <td>1.1</td>\n",
       "      <td>131</td>\n",
       "      <td>1</td>\n",
       "      <td>1</td>\n",
       "      <td>10</td>\n",
       "      <td>1</td>\n",
       "    </tr>\n",
       "    <tr>\n",
       "      <th>8</th>\n",
       "      <td>65.0</td>\n",
       "      <td>0</td>\n",
       "      <td>157</td>\n",
       "      <td>0</td>\n",
       "      <td>65</td>\n",
       "      <td>0</td>\n",
       "      <td>263358.03</td>\n",
       "      <td>1.5</td>\n",
       "      <td>138</td>\n",
       "      <td>0</td>\n",
       "      <td>0</td>\n",
       "      <td>10</td>\n",
       "      <td>1</td>\n",
       "    </tr>\n",
       "    <tr>\n",
       "      <th>9</th>\n",
       "      <td>80.0</td>\n",
       "      <td>1</td>\n",
       "      <td>123</td>\n",
       "      <td>0</td>\n",
       "      <td>35</td>\n",
       "      <td>1</td>\n",
       "      <td>388000.00</td>\n",
       "      <td>9.4</td>\n",
       "      <td>133</td>\n",
       "      <td>1</td>\n",
       "      <td>1</td>\n",
       "      <td>10</td>\n",
       "      <td>1</td>\n",
       "    </tr>\n",
       "  </tbody>\n",
       "</table>\n",
       "</div>"
      ],
      "text/plain": [
       "    age  anaemia  Creatine kinase  diabetes  Blood_fraction  \\\n",
       "0  75.0        0              582         0              20   \n",
       "1  55.0        0             7861         0              38   \n",
       "2  65.0        0              146         0              20   \n",
       "3  50.0        1              111         0              20   \n",
       "4  65.0        1              160         1              20   \n",
       "5  90.0        1               47         0              40   \n",
       "6  75.0        1              246         0              15   \n",
       "7  60.0        1              315         1              60   \n",
       "8  65.0        0              157         0              65   \n",
       "9  80.0        1              123         0              35   \n",
       "\n",
       "   high_blood_pressure  platelets  serum_creatinine  serum_sodium  sex  \\\n",
       "0                    1  265000.00               1.9           130    1   \n",
       "1                    0  263358.03               1.1           136    1   \n",
       "2                    0  162000.00               1.3           129    1   \n",
       "3                    0  210000.00               1.9           137    1   \n",
       "4                    0  327000.00               2.7           116    0   \n",
       "5                    1  204000.00               2.1           132    1   \n",
       "6                    0  127000.00               1.2           137    1   \n",
       "7                    0  454000.00               1.1           131    1   \n",
       "8                    0  263358.03               1.5           138    0   \n",
       "9                    1  388000.00               9.4           133    1   \n",
       "\n",
       "   smoking  time  DEATH_EVENT  \n",
       "0        0     4            1  \n",
       "1        0     6            1  \n",
       "2        1     7            1  \n",
       "3        0     7            1  \n",
       "4        0     8            1  \n",
       "5        1     8            1  \n",
       "6        0    10            1  \n",
       "7        1    10            1  \n",
       "8        0    10            1  \n",
       "9        1    10            1  "
      ]
     },
     "execution_count": 11,
     "metadata": {},
     "output_type": "execute_result"
    }
   ],
   "source": [
    "hf.head(10)"
   ]
  },
  {
   "cell_type": "code",
   "execution_count": 12,
   "id": "58de2567",
   "metadata": {
    "scrolled": true
   },
   "outputs": [
    {
     "data": {
      "text/html": [
       "<div>\n",
       "<style scoped>\n",
       "    .dataframe tbody tr th:only-of-type {\n",
       "        vertical-align: middle;\n",
       "    }\n",
       "\n",
       "    .dataframe tbody tr th {\n",
       "        vertical-align: top;\n",
       "    }\n",
       "\n",
       "    .dataframe thead th {\n",
       "        text-align: right;\n",
       "    }\n",
       "</style>\n",
       "<table border=\"1\" class=\"dataframe\">\n",
       "  <thead>\n",
       "    <tr style=\"text-align: right;\">\n",
       "      <th></th>\n",
       "      <th>age</th>\n",
       "      <th>anaemia</th>\n",
       "      <th>Creatine kinase</th>\n",
       "      <th>diabetes</th>\n",
       "      <th>Blood_fraction</th>\n",
       "      <th>high_blood_pressure</th>\n",
       "      <th>platelets</th>\n",
       "      <th>serum_creatinine</th>\n",
       "      <th>serum_sodium</th>\n",
       "      <th>sex</th>\n",
       "      <th>smoking</th>\n",
       "      <th>time</th>\n",
       "      <th>DEATH_EVENT</th>\n",
       "    </tr>\n",
       "  </thead>\n",
       "  <tbody>\n",
       "    <tr>\n",
       "      <th>count</th>\n",
       "      <td>299.000000</td>\n",
       "      <td>299.000000</td>\n",
       "      <td>299.000000</td>\n",
       "      <td>299.000000</td>\n",
       "      <td>299.000000</td>\n",
       "      <td>299.000000</td>\n",
       "      <td>299.000000</td>\n",
       "      <td>299.00000</td>\n",
       "      <td>299.000000</td>\n",
       "      <td>299.000000</td>\n",
       "      <td>299.00000</td>\n",
       "      <td>299.000000</td>\n",
       "      <td>299.00000</td>\n",
       "    </tr>\n",
       "    <tr>\n",
       "      <th>mean</th>\n",
       "      <td>60.833893</td>\n",
       "      <td>0.431438</td>\n",
       "      <td>581.839465</td>\n",
       "      <td>0.418060</td>\n",
       "      <td>38.083612</td>\n",
       "      <td>0.351171</td>\n",
       "      <td>263358.029264</td>\n",
       "      <td>1.39388</td>\n",
       "      <td>136.625418</td>\n",
       "      <td>0.648829</td>\n",
       "      <td>0.32107</td>\n",
       "      <td>130.260870</td>\n",
       "      <td>0.32107</td>\n",
       "    </tr>\n",
       "    <tr>\n",
       "      <th>std</th>\n",
       "      <td>11.894809</td>\n",
       "      <td>0.496107</td>\n",
       "      <td>970.287881</td>\n",
       "      <td>0.494067</td>\n",
       "      <td>11.834841</td>\n",
       "      <td>0.478136</td>\n",
       "      <td>97804.236869</td>\n",
       "      <td>1.03451</td>\n",
       "      <td>4.412477</td>\n",
       "      <td>0.478136</td>\n",
       "      <td>0.46767</td>\n",
       "      <td>77.614208</td>\n",
       "      <td>0.46767</td>\n",
       "    </tr>\n",
       "    <tr>\n",
       "      <th>min</th>\n",
       "      <td>40.000000</td>\n",
       "      <td>0.000000</td>\n",
       "      <td>23.000000</td>\n",
       "      <td>0.000000</td>\n",
       "      <td>14.000000</td>\n",
       "      <td>0.000000</td>\n",
       "      <td>25100.000000</td>\n",
       "      <td>0.50000</td>\n",
       "      <td>113.000000</td>\n",
       "      <td>0.000000</td>\n",
       "      <td>0.00000</td>\n",
       "      <td>4.000000</td>\n",
       "      <td>0.00000</td>\n",
       "    </tr>\n",
       "    <tr>\n",
       "      <th>25%</th>\n",
       "      <td>51.000000</td>\n",
       "      <td>0.000000</td>\n",
       "      <td>116.500000</td>\n",
       "      <td>0.000000</td>\n",
       "      <td>30.000000</td>\n",
       "      <td>0.000000</td>\n",
       "      <td>212500.000000</td>\n",
       "      <td>0.90000</td>\n",
       "      <td>134.000000</td>\n",
       "      <td>0.000000</td>\n",
       "      <td>0.00000</td>\n",
       "      <td>73.000000</td>\n",
       "      <td>0.00000</td>\n",
       "    </tr>\n",
       "    <tr>\n",
       "      <th>50%</th>\n",
       "      <td>60.000000</td>\n",
       "      <td>0.000000</td>\n",
       "      <td>250.000000</td>\n",
       "      <td>0.000000</td>\n",
       "      <td>38.000000</td>\n",
       "      <td>0.000000</td>\n",
       "      <td>262000.000000</td>\n",
       "      <td>1.10000</td>\n",
       "      <td>137.000000</td>\n",
       "      <td>1.000000</td>\n",
       "      <td>0.00000</td>\n",
       "      <td>115.000000</td>\n",
       "      <td>0.00000</td>\n",
       "    </tr>\n",
       "    <tr>\n",
       "      <th>75%</th>\n",
       "      <td>70.000000</td>\n",
       "      <td>1.000000</td>\n",
       "      <td>582.000000</td>\n",
       "      <td>1.000000</td>\n",
       "      <td>45.000000</td>\n",
       "      <td>1.000000</td>\n",
       "      <td>303500.000000</td>\n",
       "      <td>1.40000</td>\n",
       "      <td>140.000000</td>\n",
       "      <td>1.000000</td>\n",
       "      <td>1.00000</td>\n",
       "      <td>203.000000</td>\n",
       "      <td>1.00000</td>\n",
       "    </tr>\n",
       "    <tr>\n",
       "      <th>max</th>\n",
       "      <td>95.000000</td>\n",
       "      <td>1.000000</td>\n",
       "      <td>7861.000000</td>\n",
       "      <td>1.000000</td>\n",
       "      <td>80.000000</td>\n",
       "      <td>1.000000</td>\n",
       "      <td>850000.000000</td>\n",
       "      <td>9.40000</td>\n",
       "      <td>148.000000</td>\n",
       "      <td>1.000000</td>\n",
       "      <td>1.00000</td>\n",
       "      <td>285.000000</td>\n",
       "      <td>1.00000</td>\n",
       "    </tr>\n",
       "  </tbody>\n",
       "</table>\n",
       "</div>"
      ],
      "text/plain": [
       "              age     anaemia  Creatine kinase    diabetes  Blood_fraction  \\\n",
       "count  299.000000  299.000000       299.000000  299.000000      299.000000   \n",
       "mean    60.833893    0.431438       581.839465    0.418060       38.083612   \n",
       "std     11.894809    0.496107       970.287881    0.494067       11.834841   \n",
       "min     40.000000    0.000000        23.000000    0.000000       14.000000   \n",
       "25%     51.000000    0.000000       116.500000    0.000000       30.000000   \n",
       "50%     60.000000    0.000000       250.000000    0.000000       38.000000   \n",
       "75%     70.000000    1.000000       582.000000    1.000000       45.000000   \n",
       "max     95.000000    1.000000      7861.000000    1.000000       80.000000   \n",
       "\n",
       "       high_blood_pressure      platelets  serum_creatinine  serum_sodium  \\\n",
       "count           299.000000     299.000000         299.00000    299.000000   \n",
       "mean              0.351171  263358.029264           1.39388    136.625418   \n",
       "std               0.478136   97804.236869           1.03451      4.412477   \n",
       "min               0.000000   25100.000000           0.50000    113.000000   \n",
       "25%               0.000000  212500.000000           0.90000    134.000000   \n",
       "50%               0.000000  262000.000000           1.10000    137.000000   \n",
       "75%               1.000000  303500.000000           1.40000    140.000000   \n",
       "max               1.000000  850000.000000           9.40000    148.000000   \n",
       "\n",
       "              sex    smoking        time  DEATH_EVENT  \n",
       "count  299.000000  299.00000  299.000000    299.00000  \n",
       "mean     0.648829    0.32107  130.260870      0.32107  \n",
       "std      0.478136    0.46767   77.614208      0.46767  \n",
       "min      0.000000    0.00000    4.000000      0.00000  \n",
       "25%      0.000000    0.00000   73.000000      0.00000  \n",
       "50%      1.000000    0.00000  115.000000      0.00000  \n",
       "75%      1.000000    1.00000  203.000000      1.00000  \n",
       "max      1.000000    1.00000  285.000000      1.00000  "
      ]
     },
     "execution_count": 12,
     "metadata": {},
     "output_type": "execute_result"
    }
   ],
   "source": [
    "hf.describe()"
   ]
  },
  {
   "cell_type": "markdown",
   "id": "25439a17",
   "metadata": {},
   "source": [
    "### Checking Missing Values "
   ]
  },
  {
   "cell_type": "code",
   "execution_count": 13,
   "id": "2b880854",
   "metadata": {
    "scrolled": true
   },
   "outputs": [
    {
     "data": {
      "text/plain": [
       "age                    0\n",
       "anaemia                0\n",
       "Creatine kinase        0\n",
       "diabetes               0\n",
       "Blood_fraction         0\n",
       "high_blood_pressure    0\n",
       "platelets              0\n",
       "serum_creatinine       0\n",
       "serum_sodium           0\n",
       "sex                    0\n",
       "smoking                0\n",
       "time                   0\n",
       "DEATH_EVENT            0\n",
       "dtype: int64"
      ]
     },
     "execution_count": 13,
     "metadata": {},
     "output_type": "execute_result"
    }
   ],
   "source": [
    "hf.isnull().sum()"
   ]
  },
  {
   "cell_type": "markdown",
   "id": "f6bdd3ff",
   "metadata": {},
   "source": [
    "### Visualising   Age Column \n"
   ]
  },
  {
   "cell_type": "code",
   "execution_count": 14,
   "id": "0a2c01c7",
   "metadata": {},
   "outputs": [
    {
     "data": {
      "text/plain": [
       "0      75.0\n",
       "1      55.0\n",
       "2      65.0\n",
       "3      50.0\n",
       "4      65.0\n",
       "       ... \n",
       "294    62.0\n",
       "295    55.0\n",
       "296    45.0\n",
       "297    45.0\n",
       "298    50.0\n",
       "Name: age, Length: 299, dtype: float64"
      ]
     },
     "execution_count": 14,
     "metadata": {},
     "output_type": "execute_result"
    }
   ],
   "source": [
    "hf.age"
   ]
  },
  {
   "cell_type": "code",
   "execution_count": 15,
   "id": "5a642cb2",
   "metadata": {},
   "outputs": [
    {
     "data": {
      "text/plain": [
       "Text(0.5, 1.0, 'HIstogram of Age')"
      ]
     },
     "execution_count": 15,
     "metadata": {},
     "output_type": "execute_result"
    },
    {
     "data": {
      "image/png": "[encoded data removed]",
      "text/plain": [
       "<Figure size 432x288 with 1 Axes>"
      ]
     },
     "metadata": {
      "needs_background": "light"
     },
     "output_type": "display_data"
    }
   ],
   "source": [
    "plt.hist(hf.age,color='blue')\n",
    "plt.title('HIstogram of Age')"
   ]
  },
  {
   "cell_type": "code",
   "execution_count": 16,
   "id": "ea9d470b",
   "metadata": {},
   "outputs": [
    {
     "data": {
      "text/plain": [
       "Text(0.5, 1.0, 'Boxplot of Age')"
      ]
     },
     "execution_count": 16,
     "metadata": {},
     "output_type": "execute_result"
    },
    {
     "data": {
      "image/png": "[encoded data removed]",
      "text/plain": [
       "<Figure size 432x288 with 1 Axes>"
      ]
     },
     "metadata": {
      "needs_background": "light"
     },
     "output_type": "display_data"
    }
   ],
   "source": [
    "plt.boxplot(hf.age,vert=False ,patch_artist=True)\n",
    "plt.title('Boxplot of Age')"
   ]
  },
  {
   "cell_type": "code",
   "execution_count": 45,
   "id": "ebbc0169",
   "metadata": {
    "scrolled": true
   },
   "outputs": [
    {
     "data": {
      "image/png": "[encoded data removed]",
      "text/plain": [
       "<Figure size 936x936 with 1 Axes>"
      ]
     },
     "metadata": {
      "needs_background": "light"
     },
     "output_type": "display_data"
    }
   ],
   "source": [
    "fig, ax = plt.subplots(figsize=(13, 13))\n",
    "plt.xticks(rotation=45)\n",
    "sns.countplot(x=\"age\", hue=\"DEATH_EVENT\", data=hf, )\n",
    "plt.title('Countplot of Age ')\n",
    "\n",
    "plt.show()"
   ]
  },
  {
   "cell_type": "markdown",
   "id": "419efed5",
   "metadata": {},
   "source": [
    "### Visualising Anaemia Column\n",
    "\n"
   ]
  },
  {
   "cell_type": "code",
   "execution_count": 18,
   "id": "2546fcf3",
   "metadata": {},
   "outputs": [
    {
     "data": {
      "text/plain": [
       "Text(0.5, 1.0, 'HIstogram of anaemia')"
      ]
     },
     "execution_count": 18,
     "metadata": {},
     "output_type": "execute_result"
    },
    {
     "data": {
      "image/png": "[encoded data removed]",
      "text/plain": [
       "<Figure size 432x288 with 1 Axes>"
      ]
     },
     "metadata": {
      "needs_background": "light"
     },
     "output_type": "display_data"
    }
   ],
   "source": [
    "plt.hist(hf.anaemia,color='blue')\n",
    "plt.title('HIstogram of anaemia')\n",
    "\n"
   ]
  },
  {
   "cell_type": "code",
   "execution_count": 19,
   "id": "cce7ee34",
   "metadata": {},
   "outputs": [
    {
     "name": "stdout",
     "output_type": "stream",
     "text": [
      "Text(0.5, 1.0, 'Boxplot of anaemia')\n"
     ]
    },
    {
     "data": {
      "image/png": "[encoded data removed]",
      "text/plain": [
       "<Figure size 432x288 with 1 Axes>"
      ]
     },
     "metadata": {
      "needs_background": "light"
     },
     "output_type": "display_data"
    }
   ],
   "source": [
    "plt.boxplot(hf.anaemia,vert=False ,patch_artist=True)\n",
    "print(plt.title('Boxplot of anaemia'))"
   ]
  },
  {
   "cell_type": "code",
   "execution_count": 20,
   "id": "a760efd2",
   "metadata": {},
   "outputs": [
    {
     "data": {
      "text/plain": [
       "<AxesSubplot:xlabel='anaemia', ylabel='count'>"
      ]
     },
     "execution_count": 20,
     "metadata": {},
     "output_type": "execute_result"
    },
    {
     "data": {
      "image/png": "[encoded data removed]",
      "text/plain": [
       "<Figure size 432x288 with 1 Axes>"
      ]
     },
     "metadata": {
      "needs_background": "light"
     },
     "output_type": "display_data"
    }
   ],
   "source": [
    "sns.countplot(x=\"anaemia\", hue=\"DEATH_EVENT\", data=hf, )"
   ]
  },
  {
   "cell_type": "markdown",
   "id": "5be7246d",
   "metadata": {},
   "source": [
    " ### Visualising Creatine kinase Column\n"
   ]
  },
  {
   "cell_type": "code",
   "execution_count": 21,
   "id": "ab8714be",
   "metadata": {},
   "outputs": [
    {
     "data": {
      "text/plain": [
       "Text(0.5, 1.0, 'HIstogram of Creatine kinase')"
      ]
     },
     "execution_count": 21,
     "metadata": {},
     "output_type": "execute_result"
    },
    {
     "data": {
      "image/png": "[encoded data removed]",
      "text/plain": [
       "<Figure size 432x288 with 1 Axes>"
      ]
     },
     "metadata": {
      "needs_background": "light"
     },
     "output_type": "display_data"
    }
   ],
   "source": [
    "plt.hist(hf['Creatine kinase'],color='blue')\n",
    "plt.title('HIstogram of Creatine kinase')\n",
    "\n"
   ]
  },
  {
   "cell_type": "code",
   "execution_count": 22,
   "id": "bc32837c",
   "metadata": {
    "scrolled": false
   },
   "outputs": [
    {
     "name": "stdout",
     "output_type": "stream",
     "text": [
      "Text(0.5, 1.0, 'Boxplot of Creatine kinase')\n"
     ]
    },
    {
     "data": {
      "image/png": "[encoded data removed]",
      "text/plain": [
       "<Figure size 432x288 with 1 Axes>"
      ]
     },
     "metadata": {
      "needs_background": "light"
     },
     "output_type": "display_data"
    }
   ],
   "source": [
    "plt.boxplot(hf['Creatine kinase'],vert=False ,patch_artist=True)\n",
    "print(plt.title('Boxplot of Creatine kinase'))\n",
    "\n",
    "\n"
   ]
  },
  {
   "cell_type": "markdown",
   "id": "12b6abd4",
   "metadata": {},
   "source": [
    "### Ignore Outliers"
   ]
  },
  {
   "cell_type": "code",
   "execution_count": 23,
   "id": "b1632bb6",
   "metadata": {},
   "outputs": [
    {
     "name": "stdout",
     "output_type": "stream",
     "text": [
      "<class 'pandas.core.frame.DataFrame'>\n",
      "RangeIndex: 299 entries, 0 to 298\n",
      "Data columns (total 13 columns):\n",
      " #   Column               Non-Null Count  Dtype  \n",
      "---  ------               --------------  -----  \n",
      " 0   age                  299 non-null    float64\n",
      " 1   anaemia              299 non-null    int64  \n",
      " 2   Creatine kinase      299 non-null    int64  \n",
      " 3   diabetes             299 non-null    int64  \n",
      " 4   Blood_fraction       299 non-null    int64  \n",
      " 5   high_blood_pressure  299 non-null    int64  \n",
      " 6   platelets            299 non-null    float64\n",
      " 7   serum_creatinine     299 non-null    float64\n",
      " 8   serum_sodium         299 non-null    int64  \n",
      " 9   sex                  299 non-null    int64  \n",
      " 10  smoking              299 non-null    int64  \n",
      " 11  time                 299 non-null    int64  \n",
      " 12  DEATH_EVENT          299 non-null    int64  \n",
      "dtypes: float64(3), int64(10)\n",
      "memory usage: 30.5 KB\n"
     ]
    }
   ],
   "source": [
    "hf.info()"
   ]
  },
  {
   "cell_type": "markdown",
   "id": "a846f0d5",
   "metadata": {},
   "source": [
    " ### Visualising Diabetes Column"
   ]
  },
  {
   "cell_type": "code",
   "execution_count": 24,
   "id": "d3856249",
   "metadata": {
    "scrolled": true
   },
   "outputs": [
    {
     "data": {
      "text/plain": [
       "Text(0.5, 1.0, 'HIstogram of diabetes')"
      ]
     },
     "execution_count": 24,
     "metadata": {},
     "output_type": "execute_result"
    },
    {
     "data": {
      "image/png": "[encoded data removed]",
      "text/plain": [
       "<Figure size 432x288 with 1 Axes>"
      ]
     },
     "metadata": {
      "needs_background": "light"
     },
     "output_type": "display_data"
    }
   ],
   "source": [
    "plt.hist(hf.diabetes,color='blue')\n",
    "plt.title('HIstogram of diabetes')"
   ]
  },
  {
   "cell_type": "code",
   "execution_count": 25,
   "id": "d896a1e0",
   "metadata": {},
   "outputs": [
    {
     "name": "stdout",
     "output_type": "stream",
     "text": [
      "Text(0.5, 1.0, 'Boxplot of diabetes')\n"
     ]
    },
    {
     "data": {
      "image/png": "[encoded data removed]",
      "text/plain": [
       "<Figure size 432x288 with 1 Axes>"
      ]
     },
     "metadata": {
      "needs_background": "light"
     },
     "output_type": "display_data"
    }
   ],
   "source": [
    "plt.boxplot(hf.diabetes,vert=False ,patch_artist=True)\n",
    "print(plt.title('Boxplot of diabetes'))\n",
    "\n"
   ]
  },
  {
   "cell_type": "code",
   "execution_count": 26,
   "id": "db27aa9e",
   "metadata": {
    "scrolled": true
   },
   "outputs": [
    {
     "data": {
      "text/plain": [
       "<AxesSubplot:xlabel='diabetes', ylabel='count'>"
      ]
     },
     "execution_count": 26,
     "metadata": {},
     "output_type": "execute_result"
    },
    {
     "data": {
      "image/png": "[encoded data removed]",
      "text/plain": [
       "<Figure size 432x288 with 1 Axes>"
      ]
     },
     "metadata": {
      "needs_background": "light"
     },
     "output_type": "display_data"
    }
   ],
   "source": [
    "sns.countplot(x=\"diabetes\", hue=\"DEATH_EVENT\", data=hf, )"
   ]
  },
  {
   "cell_type": "markdown",
   "id": "aca0086d",
   "metadata": {},
   "source": [
    " ### Visualising Blood_fraction Column"
   ]
  },
  {
   "cell_type": "code",
   "execution_count": 27,
   "id": "b01352c1",
   "metadata": {},
   "outputs": [
    {
     "data": {
      "text/plain": [
       "Text(0.5, 1.0, 'HIstogram of Blood_fraction')"
      ]
     },
     "execution_count": 27,
     "metadata": {},
     "output_type": "execute_result"
    },
    {
     "data": {
      "image/png": "[encoded data removed]",
      "text/plain": [
       "<Figure size 432x288 with 1 Axes>"
      ]
     },
     "metadata": {
      "needs_background": "light"
     },
     "output_type": "display_data"
    }
   ],
   "source": [
    "\n",
    "\n",
    "plt.hist(hf.Blood_fraction,color='blue')\n",
    "plt.title('HIstogram of Blood_fraction')"
   ]
  },
  {
   "cell_type": "code",
   "execution_count": 28,
   "id": "4c5ddd83",
   "metadata": {},
   "outputs": [
    {
     "data": {
      "text/plain": [
       "<AxesSubplot:xlabel='Blood_fraction', ylabel='count'>"
      ]
     },
     "execution_count": 28,
     "metadata": {},
     "output_type": "execute_result"
    },
    {
     "data": {
      "image/png": "[encoded data removed]",
      "text/plain": [
       "<Figure size 432x288 with 1 Axes>"
      ]
     },
     "metadata": {
      "needs_background": "light"
     },
     "output_type": "display_data"
    }
   ],
   "source": [
    "sns.countplot(x=\"Blood_fraction\", hue=\"DEATH_EVENT\", data=hf, )\n",
    "\n"
   ]
  },
  {
   "cell_type": "code",
   "execution_count": 29,
   "id": "08882345",
   "metadata": {
    "scrolled": true
   },
   "outputs": [
    {
     "data": {
      "text/plain": [
       "Text(0.5, 1.0, 'Boxplot of Blood_fraction')"
      ]
     },
     "execution_count": 29,
     "metadata": {},
     "output_type": "execute_result"
    },
    {
     "data": {
      "image/png": "[encoded data removed]",
      "text/plain": [
       "<Figure size 432x288 with 1 Axes>"
      ]
     },
     "metadata": {
      "needs_background": "light"
     },
     "output_type": "display_data"
    }
   ],
   "source": [
    "plt.boxplot(hf.Blood_fraction,vert=False ,patch_artist=True)\n",
    "plt.title('Boxplot of Blood_fraction')"
   ]
  },
  {
   "cell_type": "markdown",
   "id": "90753baa",
   "metadata": {},
   "source": [
    "### Ignore Outliers"
   ]
  },
  {
   "cell_type": "markdown",
   "id": "32944121",
   "metadata": {},
   "source": [
    "### Visualising High_blood_pressure Column\n"
   ]
  },
  {
   "cell_type": "code",
   "execution_count": 30,
   "id": "f63cc6ee",
   "metadata": {},
   "outputs": [
    {
     "data": {
      "text/plain": [
       "Text(0.5, 1.0, 'Histogram of high_blood_pressure')"
      ]
     },
     "execution_count": 30,
     "metadata": {},
     "output_type": "execute_result"
    },
    {
     "data": {
      "image/png": "[encoded data removed]",
      "text/plain": [
       "<Figure size 432x288 with 1 Axes>"
      ]
     },
     "metadata": {
      "needs_background": "light"
     },
     "output_type": "display_data"
    }
   ],
   "source": [
    "\n",
    "plt.hist(hf.high_blood_pressure,color='blue')\n",
    "plt.title('Histogram of high_blood_pressure')"
   ]
  },
  {
   "cell_type": "code",
   "execution_count": 31,
   "id": "0647f515",
   "metadata": {},
   "outputs": [
    {
     "name": "stdout",
     "output_type": "stream",
     "text": [
      "Text(0.5, 1.0, 'Boxplot of high_blood_pressure')\n"
     ]
    },
    {
     "data": {
      "image/png": "[encoded data removed]",
      "text/plain": [
       "<Figure size 432x288 with 1 Axes>"
      ]
     },
     "metadata": {
      "needs_background": "light"
     },
     "output_type": "display_data"
    }
   ],
   "source": [
    "\n",
    "\n",
    "plt.boxplot(hf.high_blood_pressure,vert=False ,patch_artist=True)\n",
    "print(plt.title('Boxplot of high_blood_pressure'))\n"
   ]
  },
  {
   "cell_type": "code",
   "execution_count": 32,
   "id": "dcd2e129",
   "metadata": {},
   "outputs": [
    {
     "data": {
      "text/plain": [
       "<AxesSubplot:xlabel='high_blood_pressure', ylabel='count'>"
      ]
     },
     "execution_count": 32,
     "metadata": {},
     "output_type": "execute_result"
    },
    {
     "data": {
      "image/png": "[encoded data removed]",
      "text/plain": [
       "<Figure size 432x288 with 1 Axes>"
      ]
     },
     "metadata": {
      "needs_background": "light"
     },
     "output_type": "display_data"
    }
   ],
   "source": [
    "sns.countplot(x=\"high_blood_pressure\", hue=\"DEATH_EVENT\", data=hf, )"
   ]
  },
  {
   "cell_type": "code",
   "execution_count": 33,
   "id": "2e9b080c",
   "metadata": {},
   "outputs": [
    {
     "name": "stdout",
     "output_type": "stream",
     "text": [
      "<class 'pandas.core.frame.DataFrame'>\n",
      "RangeIndex: 299 entries, 0 to 298\n",
      "Data columns (total 13 columns):\n",
      " #   Column               Non-Null Count  Dtype  \n",
      "---  ------               --------------  -----  \n",
      " 0   age                  299 non-null    float64\n",
      " 1   anaemia              299 non-null    int64  \n",
      " 2   Creatine kinase      299 non-null    int64  \n",
      " 3   diabetes             299 non-null    int64  \n",
      " 4   Blood_fraction       299 non-null    int64  \n",
      " 5   high_blood_pressure  299 non-null    int64  \n",
      " 6   platelets            299 non-null    float64\n",
      " 7   serum_creatinine     299 non-null    float64\n",
      " 8   serum_sodium         299 non-null    int64  \n",
      " 9   sex                  299 non-null    int64  \n",
      " 10  smoking              299 non-null    int64  \n",
      " 11  time                 299 non-null    int64  \n",
      " 12  DEATH_EVENT          299 non-null    int64  \n",
      "dtypes: float64(3), int64(10)\n",
      "memory usage: 30.5 KB\n"
     ]
    }
   ],
   "source": [
    "hf.info()"
   ]
  },
  {
   "cell_type": "markdown",
   "id": "1ee91465",
   "metadata": {},
   "source": [
    "### Visualising Platelets Column\n"
   ]
  },
  {
   "cell_type": "code",
   "execution_count": 34,
   "id": "9f02ee53",
   "metadata": {},
   "outputs": [
    {
     "data": {
      "text/plain": [
       "Text(0.5, 1.0, 'HIstogram of platelets')"
      ]
     },
     "execution_count": 34,
     "metadata": {},
     "output_type": "execute_result"
    },
    {
     "data": {
      "image/png": "[encoded data removed]",
      "text/plain": [
       "<Figure size 432x288 with 1 Axes>"
      ]
     },
     "metadata": {
      "needs_background": "light"
     },
     "output_type": "display_data"
    }
   ],
   "source": [
    "\n",
    "plt.hist(hf.platelets,color='blue')\n",
    "plt.title('HIstogram of platelets')"
   ]
  },
  {
   "cell_type": "code",
   "execution_count": 33,
   "id": "03f61f7b",
   "metadata": {},
   "outputs": [
    {
     "name": "stdout",
     "output_type": "stream",
     "text": [
      "Text(0.5, 1.0, 'Boxplot of platelets')\n"
     ]
    },
    {
     "data": {
      "image/png": "[encoded data removed]",
      "text/plain": [
       "<Figure size 432x288 with 1 Axes>"
      ]
     },
     "metadata": {
      "needs_background": "light"
     },
     "output_type": "display_data"
    }
   ],
   "source": [
    "\n",
    "\n",
    "plt.boxplot(hf.platelets,vert=False ,patch_artist=True)\n",
    "print(plt.title('Boxplot of platelets'))\n"
   ]
  },
  {
   "cell_type": "markdown",
   "id": "e6e47c34",
   "metadata": {},
   "source": [
    "### Outlier Operation "
   ]
  },
  {
   "cell_type": "code",
   "execution_count": 34,
   "id": "0a6143d2",
   "metadata": {},
   "outputs": [
    {
     "name": "stdout",
     "output_type": "stream",
     "text": [
      "7\n",
      "14\n"
     ]
    }
   ],
   "source": [
    "#Getting the Iqr, up_lim & low_lim\n",
    "iqr = hf.platelets.describe()['75%'] - hf.platelets.describe()['25%'] \n",
    "low_lim = hf.platelets.describe()['25%']-1.5*iqr \n",
    "print(len(hf.platelets[hf.platelets < low_lim]) )\n",
    "up_lim = hf.platelets.describe()['75%']+1.5*iqr \n",
    "print(len(hf.platelets[hf.platelets > up_lim]))\n"
   ]
  },
  {
   "cell_type": "code",
   "execution_count": 35,
   "id": "a6c5aed1",
   "metadata": {},
   "outputs": [
    {
     "data": {
      "text/plain": [
       "299"
      ]
     },
     "execution_count": 35,
     "metadata": {},
     "output_type": "execute_result"
    }
   ],
   "source": [
    "hf.platelets.value_counts().sum()"
   ]
  },
  {
   "cell_type": "code",
   "execution_count": 36,
   "id": "84b4eb19",
   "metadata": {},
   "outputs": [
    {
     "name": "stdout",
     "output_type": "stream",
     "text": [
      "<class 'pandas.core.frame.DataFrame'>\n",
      "RangeIndex: 299 entries, 0 to 298\n",
      "Data columns (total 13 columns):\n",
      " #   Column               Non-Null Count  Dtype  \n",
      "---  ------               --------------  -----  \n",
      " 0   age                  299 non-null    float64\n",
      " 1   anaemia              299 non-null    int64  \n",
      " 2   Creatine kinase      299 non-null    int64  \n",
      " 3   diabetes             299 non-null    int64  \n",
      " 4   Blood_fraction       299 non-null    int64  \n",
      " 5   high_blood_pressure  299 non-null    int64  \n",
      " 6   platelets            299 non-null    float64\n",
      " 7   serum_creatinine     299 non-null    float64\n",
      " 8   serum_sodium         299 non-null    int64  \n",
      " 9   sex                  299 non-null    int64  \n",
      " 10  smoking              299 non-null    int64  \n",
      " 11  time                 299 non-null    int64  \n",
      " 12  DEATH_EVENT          299 non-null    int64  \n",
      "dtypes: float64(3), int64(10)\n",
      "memory usage: 30.5 KB\n"
     ]
    }
   ],
   "source": [
    "hf.info()"
   ]
  },
  {
   "cell_type": "markdown",
   "id": "9afc0633",
   "metadata": {},
   "source": [
    "### Visualising Serum_creatinine Column\n"
   ]
  },
  {
   "cell_type": "code",
   "execution_count": 37,
   "id": "8ee19ca7",
   "metadata": {},
   "outputs": [
    {
     "data": {
      "text/plain": [
       "Text(0.5, 1.0, 'HIstogram of serum_creatinine')"
      ]
     },
     "execution_count": 37,
     "metadata": {},
     "output_type": "execute_result"
    },
    {
     "data": {
      "image/png": "[encoded data removed]",
      "text/plain": [
       "<Figure size 432x288 with 1 Axes>"
      ]
     },
     "metadata": {
      "needs_background": "light"
     },
     "output_type": "display_data"
    }
   ],
   "source": [
    "\n",
    "\n",
    "plt.hist(hf.serum_creatinine,color='blue')\n",
    "plt.title('HIstogram of serum_creatinine')"
   ]
  },
  {
   "cell_type": "code",
   "execution_count": 38,
   "id": "13c70c6d",
   "metadata": {
    "scrolled": true
   },
   "outputs": [
    {
     "name": "stdout",
     "output_type": "stream",
     "text": [
      "Text(0.5, 1.0, 'Boxplot of serum_creatinine')\n"
     ]
    },
    {
     "data": {
      "image/png": "[encoded data removed]",
      "text/plain": [
       "<Figure size 432x288 with 1 Axes>"
      ]
     },
     "metadata": {
      "needs_background": "light"
     },
     "output_type": "display_data"
    }
   ],
   "source": [
    "\n",
    "\n",
    "plt.boxplot(hf.serum_creatinine,vert=False ,patch_artist=True)\n",
    "print(plt.title('Boxplot of serum_creatinine'))"
   ]
  },
  {
   "cell_type": "markdown",
   "id": "f6bfc9e0",
   "metadata": {},
   "source": [
    "### Outlier Operation "
   ]
  },
  {
   "cell_type": "code",
   "execution_count": 39,
   "id": "4ea5e455",
   "metadata": {},
   "outputs": [
    {
     "name": "stdout",
     "output_type": "stream",
     "text": [
      "29\n"
     ]
    }
   ],
   "source": [
    "iqrSC = hf.serum_creatinine.describe()['75%'] - hf.serum_creatinine.describe()['25%'] \n",
    "\n",
    "up_lim = hf.serum_creatinine.describe()['75%']+1.5*iqrSC \n",
    "print(len(hf.serum_creatinine[hf.serum_creatinine > up_lim]))"
   ]
  },
  {
   "cell_type": "code",
   "execution_count": 40,
   "id": "88db1716",
   "metadata": {},
   "outputs": [
    {
     "data": {
      "text/plain": [
       "299"
      ]
     },
     "execution_count": 40,
     "metadata": {},
     "output_type": "execute_result"
    }
   ],
   "source": [
    "hf.serum_creatinine.value_counts().sum()"
   ]
  },
  {
   "cell_type": "markdown",
   "id": "451fcad0",
   "metadata": {},
   "source": [
    "### Comparing Serum_creatinine and Target Variable"
   ]
  },
  {
   "cell_type": "code",
   "execution_count": 46,
   "id": "80a6c4d0",
   "metadata": {
    "scrolled": true
   },
   "outputs": [
    {
     "data": {
      "image/png": "[encoded data removed]",
      "text/plain": [
       "<Figure size 864x864 with 1 Axes>"
      ]
     },
     "metadata": {
      "needs_background": "light"
     },
     "output_type": "display_data"
    }
   ],
   "source": [
    "fig, ax = plt.subplots(figsize=(12, 12))\n",
    "plt.xticks(rotation=45)\n",
    "sns.countplot(x=\"serum_creatinine\", hue=\"DEATH_EVENT\", data=hf, )\n",
    "plt.show()"
   ]
  },
  {
   "cell_type": "markdown",
   "id": "c3b30cb5",
   "metadata": {},
   "source": [
    "### Visualising Serum_sodium Column"
   ]
  },
  {
   "cell_type": "code",
   "execution_count": 42,
   "id": "3adcb2c6",
   "metadata": {},
   "outputs": [
    {
     "data": {
      "text/plain": [
       "Text(0.5, 1.0, 'HIstogram of serum_sodium')"
      ]
     },
     "execution_count": 42,
     "metadata": {},
     "output_type": "execute_result"
    },
    {
     "data": {
      "image/png": "[encoded data removed]",
      "text/plain": [
       "<Figure size 432x288 with 1 Axes>"
      ]
     },
     "metadata": {
      "needs_background": "light"
     },
     "output_type": "display_data"
    }
   ],
   "source": [
    "plt.hist(hf.serum_sodium,color='blue')\n",
    "plt.title('HIstogram of serum_sodium')"
   ]
  },
  {
   "cell_type": "code",
   "execution_count": 43,
   "id": "4f897e3e",
   "metadata": {},
   "outputs": [
    {
     "name": "stdout",
     "output_type": "stream",
     "text": [
      "Text(0.5, 1.0, 'Boxplot of serum_sodium')\n"
     ]
    },
    {
     "data": {
      "image/png": "[encoded data removed]",
      "text/plain": [
       "<Figure size 432x288 with 1 Axes>"
      ]
     },
     "metadata": {
      "needs_background": "light"
     },
     "output_type": "display_data"
    }
   ],
   "source": [
    "plt.boxplot(hf.serum_sodium,vert=False ,patch_artist=True)\n",
    "print(plt.title('Boxplot of serum_sodium'))"
   ]
  },
  {
   "cell_type": "markdown",
   "id": "e87d19e6",
   "metadata": {},
   "source": [
    "### Outlier operation "
   ]
  },
  {
   "cell_type": "code",
   "execution_count": 44,
   "id": "89139024",
   "metadata": {},
   "outputs": [
    {
     "name": "stdout",
     "output_type": "stream",
     "text": [
      "4\n"
     ]
    }
   ],
   "source": [
    "#Getting the Iqr, up_lim & low_lim\n",
    "iqrhf = hf.serum_sodium.describe()['75%'] - hf.serum_sodium.describe()['25%'] \n",
    "low_lim = hf.serum_sodium.describe()['25%']-1.5*iqrhf\n",
    "print(len(hf.serum_sodium[hf.serum_sodium < low_lim]) )\n"
   ]
  },
  {
   "cell_type": "code",
   "execution_count": 45,
   "id": "51ae27ec",
   "metadata": {},
   "outputs": [
    {
     "data": {
      "text/plain": [
       "299"
      ]
     },
     "execution_count": 45,
     "metadata": {},
     "output_type": "execute_result"
    }
   ],
   "source": [
    "hf.serum_sodium.value_counts().sum()"
   ]
  },
  {
   "cell_type": "markdown",
   "id": "53240999",
   "metadata": {},
   "source": [
    "### Comparing Serum_sodium Comlumn asn Target Variable"
   ]
  },
  {
   "cell_type": "code",
   "execution_count": 48,
   "id": "329054d4",
   "metadata": {
    "scrolled": true
   },
   "outputs": [
    {
     "data": {
      "text/plain": [
       "<AxesSubplot:xlabel='serum_sodium', ylabel='count'>"
      ]
     },
     "execution_count": 48,
     "metadata": {},
     "output_type": "execute_result"
    },
    {
     "data": {
      "image/png": "[encoded data removed]",
      "text/plain": [
       "<Figure size 864x864 with 1 Axes>"
      ]
     },
     "metadata": {
      "needs_background": "light"
     },
     "output_type": "display_data"
    }
   ],
   "source": [
    "fig, ax = plt.subplots(figsize=(12, 12))\n",
    "plt.xticks(rotation=45)\n",
    "sns.countplot(x=\"serum_sodium\", hue=\"DEATH_EVENT\", data=hf, )"
   ]
  },
  {
   "cell_type": "markdown",
   "id": "cb129e8b",
   "metadata": {},
   "source": [
    "### Visualising Sex Column"
   ]
  },
  {
   "cell_type": "code",
   "execution_count": 47,
   "id": "78479208",
   "metadata": {},
   "outputs": [
    {
     "data": {
      "text/plain": [
       "Text(0.5, 1.0, 'HIstogram of sex Column')"
      ]
     },
     "execution_count": 47,
     "metadata": {},
     "output_type": "execute_result"
    },
    {
     "data": {
      "image/png": "[encoded data removed]",
      "text/plain": [
       "<Figure size 432x288 with 1 Axes>"
      ]
     },
     "metadata": {
      "needs_background": "light"
     },
     "output_type": "display_data"
    }
   ],
   "source": [
    "plt.hist(hf.sex,color='blue')\n",
    "plt.title('HIstogram of sex Column')"
   ]
  },
  {
   "cell_type": "code",
   "execution_count": 48,
   "id": "4d3ca9c0",
   "metadata": {},
   "outputs": [
    {
     "name": "stdout",
     "output_type": "stream",
     "text": [
      "Text(0.5, 1.0, 'Boxplot of Sex Column')\n"
     ]
    },
    {
     "data": {
      "image/png": "[encoded data removed]",
      "text/plain": [
       "<Figure size 432x288 with 1 Axes>"
      ]
     },
     "metadata": {
      "needs_background": "light"
     },
     "output_type": "display_data"
    }
   ],
   "source": [
    "\n",
    "\n",
    "plt.boxplot(hf.sex,vert=False ,patch_artist=True)\n",
    "print(plt.title('Boxplot of Sex Column'))\n"
   ]
  },
  {
   "cell_type": "code",
   "execution_count": 49,
   "id": "2316e3b7",
   "metadata": {},
   "outputs": [
    {
     "data": {
      "text/plain": [
       "<AxesSubplot:xlabel='sex', ylabel='count'>"
      ]
     },
     "execution_count": 49,
     "metadata": {},
     "output_type": "execute_result"
    },
    {
     "data": {
      "image/png": "[encoded data removed]",
      "text/plain": [
       "<Figure size 432x288 with 1 Axes>"
      ]
     },
     "metadata": {
      "needs_background": "light"
     },
     "output_type": "display_data"
    }
   ],
   "source": [
    "sns.countplot(x=\"sex\", hue=\"DEATH_EVENT\", data=hf, )"
   ]
  },
  {
   "cell_type": "markdown",
   "id": "e43cab12",
   "metadata": {},
   "source": [
    "### Visualising Smoking Column"
   ]
  },
  {
   "cell_type": "code",
   "execution_count": 50,
   "id": "50d34d3a",
   "metadata": {},
   "outputs": [
    {
     "data": {
      "text/plain": [
       "Text(0.5, 1.0, 'HIstogram of smoking')"
      ]
     },
     "execution_count": 50,
     "metadata": {},
     "output_type": "execute_result"
    },
    {
     "data": {
      "image/png": "[encoded data removed]",
      "text/plain": [
       "<Figure size 432x288 with 1 Axes>"
      ]
     },
     "metadata": {
      "needs_background": "light"
     },
     "output_type": "display_data"
    }
   ],
   "source": [
    "\n",
    "plt.hist(hf.smoking,color='blue')\n",
    "plt.title('HIstogram of smoking')"
   ]
  },
  {
   "cell_type": "code",
   "execution_count": 51,
   "id": "238e07ad",
   "metadata": {},
   "outputs": [
    {
     "name": "stdout",
     "output_type": "stream",
     "text": [
      "Text(0.5, 1.0, 'Boxplot of smoking')\n"
     ]
    },
    {
     "data": {
      "image/png": "[encoded data removed]",
      "text/plain": [
       "<Figure size 432x288 with 1 Axes>"
      ]
     },
     "metadata": {
      "needs_background": "light"
     },
     "output_type": "display_data"
    }
   ],
   "source": [
    "\n",
    "\n",
    "plt.boxplot(hf.smoking,vert=False ,patch_artist=True)\n",
    "print(plt.title('Boxplot of smoking'))\n"
   ]
  },
  {
   "cell_type": "code",
   "execution_count": 52,
   "id": "ccad8f3c",
   "metadata": {
    "scrolled": true
   },
   "outputs": [
    {
     "data": {
      "text/plain": [
       "<AxesSubplot:xlabel='smoking', ylabel='count'>"
      ]
     },
     "execution_count": 52,
     "metadata": {},
     "output_type": "execute_result"
    },
    {
     "data": {
      "image/png": "[encoded data removed]",
      "text/plain": [
       "<Figure size 432x288 with 1 Axes>"
      ]
     },
     "metadata": {
      "needs_background": "light"
     },
     "output_type": "display_data"
    }
   ],
   "source": [
    "sns.countplot(x=\"smoking\", hue=\"DEATH_EVENT\", data=hf, )"
   ]
  },
  {
   "cell_type": "markdown",
   "id": "e25ad30d",
   "metadata": {},
   "source": [
    "### Visualising Time Column"
   ]
  },
  {
   "cell_type": "code",
   "execution_count": 53,
   "id": "dc87c526",
   "metadata": {},
   "outputs": [
    {
     "data": {
      "text/plain": [
       "Text(0.5, 1.0, 'HIstogram of time')"
      ]
     },
     "execution_count": 53,
     "metadata": {},
     "output_type": "execute_result"
    },
    {
     "data": {
      "image/png": "[encoded data removed]",
      "text/plain": [
       "<Figure size 432x288 with 1 Axes>"
      ]
     },
     "metadata": {
      "needs_background": "light"
     },
     "output_type": "display_data"
    }
   ],
   "source": [
    "\n",
    "plt.hist(hf.time,color='blue')\n",
    "plt.title('HIstogram of time')"
   ]
  },
  {
   "cell_type": "code",
   "execution_count": 54,
   "id": "cf33eb23",
   "metadata": {},
   "outputs": [
    {
     "name": "stdout",
     "output_type": "stream",
     "text": [
      "Text(0.5, 1.0, 'Boxplot of time')\n"
     ]
    },
    {
     "data": {
      "image/png": "[encoded data removed]",
      "text/plain": [
       "<Figure size 432x288 with 1 Axes>"
      ]
     },
     "metadata": {
      "needs_background": "light"
     },
     "output_type": "display_data"
    }
   ],
   "source": [
    "\n",
    "\n",
    "plt.boxplot(hf.time,vert=False ,patch_artist=True)\n",
    "print(plt.title('Boxplot of time'))\n"
   ]
  },
  {
   "cell_type": "markdown",
   "id": "945fa5e2",
   "metadata": {},
   "source": [
    "### Comparing Time Column and Target Variable"
   ]
  },
  {
   "cell_type": "code",
   "execution_count": 57,
   "id": "c38e5f4f",
   "metadata": {
    "scrolled": true
   },
   "outputs": [
    {
     "data": {
      "image/png": "[encoded data removed]",
      "text/plain": [
       "<Figure size 2880x2880 with 1 Axes>"
      ]
     },
     "metadata": {
      "needs_background": "light"
     },
     "output_type": "display_data"
    }
   ],
   "source": [
    "fig, ax = plt.subplots(figsize=(40, 40))\n",
    "plt.xticks(rotation=45)\n",
    "\n",
    "sns.countplot(x=\"time\", hue=\"DEATH_EVENT\", data=hf)\n",
    "plt.show()\n"
   ]
  },
  {
   "cell_type": "markdown",
   "id": "33fbe8d6",
   "metadata": {},
   "source": [
    "### Visualising Target Variable "
   ]
  },
  {
   "cell_type": "code",
   "execution_count": 56,
   "id": "a0067e23",
   "metadata": {},
   "outputs": [
    {
     "data": {
      "text/plain": [
       "Text(0.5, 1.0, 'HIstogram of DEATH_EVENT')"
      ]
     },
     "execution_count": 56,
     "metadata": {},
     "output_type": "execute_result"
    },
    {
     "data": {
      "image/png": "[encoded data removed]",
      "text/plain": [
       "<Figure size 432x288 with 1 Axes>"
      ]
     },
     "metadata": {
      "needs_background": "light"
     },
     "output_type": "display_data"
    }
   ],
   "source": [
    "\n",
    "plt.hist(hf.DEATH_EVENT,color='blue')\n",
    "plt.title('HIstogram of DEATH_EVENT')"
   ]
  },
  {
   "cell_type": "code",
   "execution_count": 57,
   "id": "bed1a471",
   "metadata": {},
   "outputs": [
    {
     "name": "stdout",
     "output_type": "stream",
     "text": [
      "Text(0.5, 1.0, 'Boxplot of DEATH_EVENT')\n"
     ]
    },
    {
     "data": {
      "image/png": "[encoded data removed]",
      "text/plain": [
       "<Figure size 432x288 with 1 Axes>"
      ]
     },
     "metadata": {
      "needs_background": "light"
     },
     "output_type": "display_data"
    }
   ],
   "source": [
    "plt.boxplot(hf.DEATH_EVENT,vert=False ,patch_artist=True)\n",
    "print(plt.title('Boxplot of DEATH_EVENT'))\n"
   ]
  },
  {
   "cell_type": "markdown",
   "id": "705db0f1",
   "metadata": {},
   "source": [
    "### Correlation Matrix"
   ]
  },
  {
   "cell_type": "code",
   "execution_count": 58,
   "id": "d0fc4ec5",
   "metadata": {},
   "outputs": [
    {
     "data": {
      "image/png": "[encoded data removed]",
      "text/plain": [
       "<Figure size 720x720 with 2 Axes>"
      ]
     },
     "metadata": {
      "needs_background": "light"
     },
     "output_type": "display_data"
    }
   ],
   "source": [
    "\n",
    "plt.figure(figsize=(10,10))\n",
    "sns.heatmap(hf.corr(),  cmap='coolwarm', annot=True);"
   ]
  },
  {
   "cell_type": "code",
   "execution_count": 59,
   "id": "7ae71350",
   "metadata": {
    "scrolled": true
   },
   "outputs": [
    {
     "name": "stdout",
     "output_type": "stream",
     "text": [
      "DEATH_EVENT            1.000000\n",
      "serum_creatinine       0.294278\n",
      "age                    0.253729\n",
      "high_blood_pressure    0.079351\n",
      "anaemia                0.066270\n",
      "Creatine kinase        0.062728\n",
      "diabetes              -0.001943\n",
      "sex                   -0.004316\n",
      "smoking               -0.012623\n",
      "platelets             -0.049139\n",
      "serum_sodium          -0.195204\n",
      "Blood_fraction        -0.268603\n",
      "time                  -0.526964\n",
      "Name: DEATH_EVENT, dtype: float64\n"
     ]
    }
   ],
   "source": [
    "corr_matrix = hf.corr()\n",
    "print(corr_matrix[\"DEATH_EVENT\"].sort_values(ascending=False))"
   ]
  },
  {
   "cell_type": "code",
   "execution_count": 60,
   "id": "9555c8cc",
   "metadata": {},
   "outputs": [
    {
     "name": "stdout",
     "output_type": "stream",
     "text": [
      "<class 'pandas.core.frame.DataFrame'>\n",
      "RangeIndex: 299 entries, 0 to 298\n",
      "Data columns (total 13 columns):\n",
      " #   Column               Non-Null Count  Dtype  \n",
      "---  ------               --------------  -----  \n",
      " 0   age                  299 non-null    float64\n",
      " 1   anaemia              299 non-null    int64  \n",
      " 2   Creatine kinase      299 non-null    int64  \n",
      " 3   diabetes             299 non-null    int64  \n",
      " 4   Blood_fraction       299 non-null    int64  \n",
      " 5   high_blood_pressure  299 non-null    int64  \n",
      " 6   platelets            299 non-null    float64\n",
      " 7   serum_creatinine     299 non-null    float64\n",
      " 8   serum_sodium         299 non-null    int64  \n",
      " 9   sex                  299 non-null    int64  \n",
      " 10  smoking              299 non-null    int64  \n",
      " 11  time                 299 non-null    int64  \n",
      " 12  DEATH_EVENT          299 non-null    int64  \n",
      "dtypes: float64(3), int64(10)\n",
      "memory usage: 30.5 KB\n"
     ]
    }
   ],
   "source": [
    "hf.info()"
   ]
  },
  {
   "cell_type": "code",
   "execution_count": 61,
   "id": "8e9c1c6a",
   "metadata": {},
   "outputs": [
    {
     "data": {
      "text/html": [
       "<div>\n",
       "<style scoped>\n",
       "    .dataframe tbody tr th:only-of-type {\n",
       "        vertical-align: middle;\n",
       "    }\n",
       "\n",
       "    .dataframe tbody tr th {\n",
       "        vertical-align: top;\n",
       "    }\n",
       "\n",
       "    .dataframe thead th {\n",
       "        text-align: right;\n",
       "    }\n",
       "</style>\n",
       "<table border=\"1\" class=\"dataframe\">\n",
       "  <thead>\n",
       "    <tr style=\"text-align: right;\">\n",
       "      <th></th>\n",
       "      <th>age</th>\n",
       "      <th>anaemia</th>\n",
       "      <th>Creatine kinase</th>\n",
       "      <th>diabetes</th>\n",
       "      <th>Blood_fraction</th>\n",
       "      <th>high_blood_pressure</th>\n",
       "      <th>platelets</th>\n",
       "      <th>serum_creatinine</th>\n",
       "      <th>serum_sodium</th>\n",
       "      <th>sex</th>\n",
       "      <th>smoking</th>\n",
       "      <th>time</th>\n",
       "      <th>DEATH_EVENT</th>\n",
       "    </tr>\n",
       "  </thead>\n",
       "  <tbody>\n",
       "    <tr>\n",
       "      <th>0</th>\n",
       "      <td>75.0</td>\n",
       "      <td>0</td>\n",
       "      <td>582</td>\n",
       "      <td>0</td>\n",
       "      <td>20</td>\n",
       "      <td>1</td>\n",
       "      <td>265000.00</td>\n",
       "      <td>1.9</td>\n",
       "      <td>130</td>\n",
       "      <td>1</td>\n",
       "      <td>0</td>\n",
       "      <td>4</td>\n",
       "      <td>1</td>\n",
       "    </tr>\n",
       "    <tr>\n",
       "      <th>1</th>\n",
       "      <td>55.0</td>\n",
       "      <td>0</td>\n",
       "      <td>7861</td>\n",
       "      <td>0</td>\n",
       "      <td>38</td>\n",
       "      <td>0</td>\n",
       "      <td>263358.03</td>\n",
       "      <td>1.1</td>\n",
       "      <td>136</td>\n",
       "      <td>1</td>\n",
       "      <td>0</td>\n",
       "      <td>6</td>\n",
       "      <td>1</td>\n",
       "    </tr>\n",
       "    <tr>\n",
       "      <th>2</th>\n",
       "      <td>65.0</td>\n",
       "      <td>0</td>\n",
       "      <td>146</td>\n",
       "      <td>0</td>\n",
       "      <td>20</td>\n",
       "      <td>0</td>\n",
       "      <td>162000.00</td>\n",
       "      <td>1.3</td>\n",
       "      <td>129</td>\n",
       "      <td>1</td>\n",
       "      <td>1</td>\n",
       "      <td>7</td>\n",
       "      <td>1</td>\n",
       "    </tr>\n",
       "    <tr>\n",
       "      <th>3</th>\n",
       "      <td>50.0</td>\n",
       "      <td>1</td>\n",
       "      <td>111</td>\n",
       "      <td>0</td>\n",
       "      <td>20</td>\n",
       "      <td>0</td>\n",
       "      <td>210000.00</td>\n",
       "      <td>1.9</td>\n",
       "      <td>137</td>\n",
       "      <td>1</td>\n",
       "      <td>0</td>\n",
       "      <td>7</td>\n",
       "      <td>1</td>\n",
       "    </tr>\n",
       "    <tr>\n",
       "      <th>4</th>\n",
       "      <td>65.0</td>\n",
       "      <td>1</td>\n",
       "      <td>160</td>\n",
       "      <td>1</td>\n",
       "      <td>20</td>\n",
       "      <td>0</td>\n",
       "      <td>327000.00</td>\n",
       "      <td>2.7</td>\n",
       "      <td>116</td>\n",
       "      <td>0</td>\n",
       "      <td>0</td>\n",
       "      <td>8</td>\n",
       "      <td>1</td>\n",
       "    </tr>\n",
       "  </tbody>\n",
       "</table>\n",
       "</div>"
      ],
      "text/plain": [
       "    age  anaemia  Creatine kinase  diabetes  Blood_fraction  \\\n",
       "0  75.0        0              582         0              20   \n",
       "1  55.0        0             7861         0              38   \n",
       "2  65.0        0              146         0              20   \n",
       "3  50.0        1              111         0              20   \n",
       "4  65.0        1              160         1              20   \n",
       "\n",
       "   high_blood_pressure  platelets  serum_creatinine  serum_sodium  sex  \\\n",
       "0                    1  265000.00               1.9           130    1   \n",
       "1                    0  263358.03               1.1           136    1   \n",
       "2                    0  162000.00               1.3           129    1   \n",
       "3                    0  210000.00               1.9           137    1   \n",
       "4                    0  327000.00               2.7           116    0   \n",
       "\n",
       "   smoking  time  DEATH_EVENT  \n",
       "0        0     4            1  \n",
       "1        0     6            1  \n",
       "2        1     7            1  \n",
       "3        0     7            1  \n",
       "4        0     8            1  "
      ]
     },
     "execution_count": 61,
     "metadata": {},
     "output_type": "execute_result"
    }
   ],
   "source": [
    "hf.head()"
   ]
  },
  {
   "cell_type": "markdown",
   "id": "03c9c1e8",
   "metadata": {},
   "source": [
    "### Converting Columns to Object Data type"
   ]
  },
  {
   "cell_type": "code",
   "execution_count": 62,
   "id": "51771288",
   "metadata": {},
   "outputs": [],
   "source": [
    "hf['anaemia']=hf['anaemia'].astype('O')\n",
    "hf['diabetes']=hf['diabetes'].astype('O')\n",
    "hf['high_blood_pressure']=hf['high_blood_pressure'].astype('O')\n",
    "hf['sex']=hf['sex'].astype('O')\n",
    "hf['smoking']=hf['smoking'].astype('O')\n",
    "\n",
    "\n",
    "\n",
    "\n"
   ]
  },
  {
   "cell_type": "code",
   "execution_count": 63,
   "id": "3831ad1b",
   "metadata": {
    "scrolled": true
   },
   "outputs": [
    {
     "name": "stdout",
     "output_type": "stream",
     "text": [
      "<class 'pandas.core.frame.DataFrame'>\n",
      "RangeIndex: 299 entries, 0 to 298\n",
      "Data columns (total 13 columns):\n",
      " #   Column               Non-Null Count  Dtype  \n",
      "---  ------               --------------  -----  \n",
      " 0   age                  299 non-null    float64\n",
      " 1   anaemia              299 non-null    object \n",
      " 2   Creatine kinase      299 non-null    int64  \n",
      " 3   diabetes             299 non-null    object \n",
      " 4   Blood_fraction       299 non-null    int64  \n",
      " 5   high_blood_pressure  299 non-null    object \n",
      " 6   platelets            299 non-null    float64\n",
      " 7   serum_creatinine     299 non-null    float64\n",
      " 8   serum_sodium         299 non-null    int64  \n",
      " 9   sex                  299 non-null    object \n",
      " 10  smoking              299 non-null    object \n",
      " 11  time                 299 non-null    int64  \n",
      " 12  DEATH_EVENT          299 non-null    int64  \n",
      "dtypes: float64(3), int64(5), object(5)\n",
      "memory usage: 30.5+ KB\n"
     ]
    }
   ],
   "source": [
    "hf.info()"
   ]
  },
  {
   "cell_type": "markdown",
   "id": "ab0ae5cf",
   "metadata": {},
   "source": [
    "### Model Building "
   ]
  },
  {
   "cell_type": "code",
   "execution_count": 106,
   "id": "49a5259c",
   "metadata": {},
   "outputs": [],
   "source": [
    "\n",
    "x=hf.iloc[:,[1,2,3,4,5,6,7,8,9,10,11]]\n",
    "\n",
    "y=hf.iloc[:,12]"
   ]
  },
  {
   "cell_type": "code",
   "execution_count": 65,
   "id": "a123aa86",
   "metadata": {},
   "outputs": [
    {
     "data": {
      "text/plain": [
       "(299, 11)"
      ]
     },
     "execution_count": 65,
     "metadata": {},
     "output_type": "execute_result"
    }
   ],
   "source": [
    "x.shape"
   ]
  },
  {
   "cell_type": "code",
   "execution_count": 66,
   "id": "b0212434",
   "metadata": {},
   "outputs": [
    {
     "data": {
      "text/plain": [
       "(299,)"
      ]
     },
     "execution_count": 66,
     "metadata": {},
     "output_type": "execute_result"
    }
   ],
   "source": [
    "y.shape"
   ]
  },
  {
   "cell_type": "markdown",
   "id": "08f35090",
   "metadata": {},
   "source": [
    "### Train Test Split"
   ]
  },
  {
   "cell_type": "code",
   "execution_count": 67,
   "id": "d8e08795",
   "metadata": {},
   "outputs": [],
   "source": [
    "X_train, X_test, y_train, y_test = train_test_split(x,y, test_size=0.3,random_state=0)"
   ]
  },
  {
   "cell_type": "code",
   "execution_count": 68,
   "id": "8ee054c5",
   "metadata": {},
   "outputs": [
    {
     "name": "stdout",
     "output_type": "stream",
     "text": [
      "(209, 11)\n",
      "(90, 11)\n",
      "(209,)\n",
      "(90,)\n"
     ]
    }
   ],
   "source": [
    "print(X_train.shape)\n",
    "print(X_test.shape)\n",
    "print(y_train.shape)\n",
    "print(y_test.shape)"
   ]
  },
  {
   "cell_type": "markdown",
   "id": "1ec23a1d",
   "metadata": {},
   "source": [
    "### Logistic Regression Model Building"
   ]
  },
  {
   "cell_type": "code",
   "execution_count": 69,
   "id": "e3d969f5",
   "metadata": {},
   "outputs": [],
   "source": [
    "log_reg = LogisticRegression()\n",
    "log_reg.fit(X_train, y_train)\n",
    "log_reg_pred = log_reg.predict(X_test)\n",
    "log_reg_acc = accuracy_score(y_test, log_reg_pred)\n",
    "\n"
   ]
  },
  {
   "cell_type": "markdown",
   "id": "ccf8fd7f",
   "metadata": {},
   "source": [
    "### Classification_report, Confusion Matrix, ROC Curve"
   ]
  },
  {
   "cell_type": "code",
   "execution_count": 70,
   "id": "e422fc86",
   "metadata": {
    "scrolled": false
   },
   "outputs": [
    {
     "name": "stdout",
     "output_type": "stream",
     "text": [
      "              precision    recall  f1-score   support\n",
      "\n",
      "           0       0.84      0.92      0.88        62\n",
      "           1       0.77      0.61      0.68        28\n",
      "\n",
      "    accuracy                           0.82        90\n",
      "   macro avg       0.81      0.76      0.78        90\n",
      "weighted avg       0.82      0.82      0.82        90\n",
      "\n"
     ]
    }
   ],
   "source": [
    "print(classification_report(y_test,log_reg_pred))"
   ]
  },
  {
   "cell_type": "code",
   "execution_count": 71,
   "id": "0b5ba6f4",
   "metadata": {},
   "outputs": [
    {
     "data": {
      "text/plain": [
       "array([[57,  5],\n",
       "       [11, 17]], dtype=int64)"
      ]
     },
     "execution_count": 71,
     "metadata": {},
     "output_type": "execute_result"
    }
   ],
   "source": [
    "confusion_matrix(y_test,log_reg_pred)"
   ]
  },
  {
   "cell_type": "code",
   "execution_count": 72,
   "id": "a6c43bd3",
   "metadata": {},
   "outputs": [
    {
     "name": "stdout",
     "output_type": "stream",
     "text": [
      "0.7632488479262672\n"
     ]
    }
   ],
   "source": [
    "fprLR, tprLR, thresholds =metrics.roc_curve(y_test, log_reg_pred)\n",
    "roc_aucLR = auc(fprLR,tprLR)\n",
    "print(roc_aucLR)"
   ]
  },
  {
   "cell_type": "code",
   "execution_count": 73,
   "id": "3b48f7e8",
   "metadata": {
    "scrolled": true
   },
   "outputs": [
    {
     "data": {
      "image/png": "[encoded data removed]",
      "text/plain": [
       "<Figure size 432x288 with 1 Axes>"
      ]
     },
     "metadata": {
      "needs_background": "light"
     },
     "output_type": "display_data"
    }
   ],
   "source": [
    "plt.title('ROC Curve for Heart Failure - LogisticRegression')\n",
    "plt.xlabel('False Positive Rate (1-Specificity)')\n",
    "plt.ylabel('True Positive Rate (Sensitivity)')\n",
    "plt.plot([0, 1], [0, 1],'r--')\n",
    "plt.xlim([0, 1])\n",
    "plt.ylim([0, 1])\n",
    "plt.plot(fprLR,tprLR, label = 'AUC =' +str(roc_aucLR), linewidth=4)\n",
    "plt.legend(loc=4)\n",
    "plt.show()\n",
    "\n",
    "cols = ['Model', 'Accuracy', 'AUC']\n",
    "Compare=pd.DataFrame(columns=cols)\n",
    "\n"
   ]
  },
  {
   "cell_type": "code",
   "execution_count": 74,
   "id": "e60785c4",
   "metadata": {},
   "outputs": [],
   "source": [
    "LogisticRegression =pd.Series({'Model':'LogisticRegression','Accuracy':log_reg_acc,'AUC':roc_aucLR})\n",
    "Compare=Compare.append(LogisticRegression,ignore_index=True)"
   ]
  },
  {
   "cell_type": "markdown",
   "id": "db3a1e2d",
   "metadata": {},
   "source": [
    "### KNN Model Building"
   ]
  },
  {
   "cell_type": "code",
   "execution_count": 75,
   "id": "e7b87488",
   "metadata": {},
   "outputs": [],
   "source": [
    "\n",
    "kn_clf = KNeighborsClassifier(n_neighbors=6)\n",
    "kn_clf.fit(X_train, y_train)\n",
    "kn_pred = kn_clf.predict(X_test)\n",
    "kn_acc = accuracy_score(y_test, kn_pred)\n"
   ]
  },
  {
   "cell_type": "markdown",
   "id": "f0c06cb7",
   "metadata": {},
   "source": [
    "\n",
    "### Classification_report, Confusion matrix ,ROC curve KNN Model"
   ]
  },
  {
   "cell_type": "code",
   "execution_count": 77,
   "id": "556b22b4",
   "metadata": {
    "scrolled": true
   },
   "outputs": [
    {
     "name": "stdout",
     "output_type": "stream",
     "text": [
      "              precision    recall  f1-score   support\n",
      "\n",
      "           0       0.67      0.79      0.73        62\n",
      "           1       0.24      0.14      0.18        28\n",
      "\n",
      "    accuracy                           0.59        90\n",
      "   macro avg       0.45      0.47      0.45        90\n",
      "weighted avg       0.54      0.59      0.56        90\n",
      "\n"
     ]
    }
   ],
   "source": [
    "print(classification_report(y_test,kn_pred))"
   ]
  },
  {
   "cell_type": "code",
   "execution_count": 78,
   "id": "f4969efe",
   "metadata": {},
   "outputs": [
    {
     "data": {
      "text/plain": [
       "array([[49, 13],\n",
       "       [24,  4]], dtype=int64)"
      ]
     },
     "execution_count": 78,
     "metadata": {},
     "output_type": "execute_result"
    }
   ],
   "source": [
    "confusion_matrix(y_test,kn_pred)"
   ]
  },
  {
   "cell_type": "code",
   "execution_count": 79,
   "id": "2c926fe2",
   "metadata": {},
   "outputs": [
    {
     "name": "stdout",
     "output_type": "stream",
     "text": [
      "0.466589861751152\n"
     ]
    }
   ],
   "source": [
    "fprKNN, tprKNN, thresholds =metrics.roc_curve(y_test, kn_pred)\n",
    "roc_aucKNN = auc(fprKNN,tprKNN)\n",
    "print(roc_aucKNN)"
   ]
  },
  {
   "cell_type": "code",
   "execution_count": 80,
   "id": "23291f2c",
   "metadata": {},
   "outputs": [
    {
     "data": {
      "image/png": "[encoded data removed]",
      "text/plain": [
       "<Figure size 432x288 with 1 Axes>"
      ]
     },
     "metadata": {
      "needs_background": "light"
     },
     "output_type": "display_data"
    }
   ],
   "source": [
    "plt.title('ROC Curve for Heart Failure - KNN')\n",
    "plt.xlabel('False Positive Rate (1-Specificity)')\n",
    "plt.ylabel('True Positive Rate (Sensitivity)')\n",
    "plt.plot([0, 1], [0, 1],'r--')\n",
    "plt.xlim([0, 1])\n",
    "plt.ylim([0, 1])\n",
    "plt.plot(fprKNN, tprKNN, label = 'AUC =' +str(roc_aucKNN), linewidth=4)\n",
    "plt.legend(loc=4)\n",
    "plt.show()\n"
   ]
  },
  {
   "cell_type": "code",
   "execution_count": 81,
   "id": "9a96c172",
   "metadata": {},
   "outputs": [],
   "source": [
    "KNN =pd.Series({'Model':'KNN','Accuracy':kn_acc,'AUC':roc_aucKNN})\n",
    "Compare=Compare.append(KNN,ignore_index=True)"
   ]
  },
  {
   "cell_type": "markdown",
   "id": "22111794",
   "metadata": {},
   "source": [
    "### Decision Tree Classifier Model Building"
   ]
  },
  {
   "cell_type": "code",
   "execution_count": 82,
   "id": "b64c104c",
   "metadata": {},
   "outputs": [],
   "source": [
    "dt_clf = DecisionTreeClassifier(max_leaf_nodes=10, random_state=0, criterion='entropy')\n",
    "dt_clf.fit(X_train, y_train)\n",
    "dt_pred = dt_clf.predict(X_test)\n",
    "dt_acc = accuracy_score(y_test, dt_pred)\n"
   ]
  },
  {
   "cell_type": "code",
   "execution_count": 83,
   "id": "c2a36f1b",
   "metadata": {},
   "outputs": [
    {
     "name": "stdout",
     "output_type": "stream",
     "text": [
      "Accuracy of Decision Tree Classifier is :  87.78%\n"
     ]
    }
   ],
   "source": [
    "print(\"Accuracy of Decision Tree Classifier is : \", \"{:.2f}%\".format(100* dt_acc))"
   ]
  },
  {
   "cell_type": "markdown",
   "id": "a4114550",
   "metadata": {},
   "source": [
    "### Classification report , Confusion Matrix , ROC Curve of  Decision Tree Model"
   ]
  },
  {
   "cell_type": "code",
   "execution_count": 84,
   "id": "ef7dd1d2",
   "metadata": {
    "scrolled": true
   },
   "outputs": [
    {
     "name": "stdout",
     "output_type": "stream",
     "text": [
      "              precision    recall  f1-score   support\n",
      "\n",
      "           0       0.89      0.94      0.91        62\n",
      "           1       0.84      0.75      0.79        28\n",
      "\n",
      "    accuracy                           0.88        90\n",
      "   macro avg       0.87      0.84      0.85        90\n",
      "weighted avg       0.88      0.88      0.88        90\n",
      "\n"
     ]
    }
   ],
   "source": [
    "print(classification_report(y_test,dt_pred))"
   ]
  },
  {
   "cell_type": "code",
   "execution_count": 85,
   "id": "84253411",
   "metadata": {},
   "outputs": [
    {
     "data": {
      "text/plain": [
       "array([[58,  4],\n",
       "       [ 7, 21]], dtype=int64)"
      ]
     },
     "execution_count": 85,
     "metadata": {},
     "output_type": "execute_result"
    }
   ],
   "source": [
    "confusion_matrix(y_test,dt_pred)"
   ]
  },
  {
   "cell_type": "code",
   "execution_count": 86,
   "id": "8c80abaf",
   "metadata": {},
   "outputs": [
    {
     "name": "stdout",
     "output_type": "stream",
     "text": [
      "0.842741935483871\n"
     ]
    }
   ],
   "source": [
    "fprDT, tprDT, thresholds =metrics.roc_curve(y_test, dt_pred)\n",
    "roc_aucDT = auc(fprDT,tprDT)\n",
    "print(roc_aucDT)"
   ]
  },
  {
   "cell_type": "code",
   "execution_count": 87,
   "id": "5c8bd3f2",
   "metadata": {},
   "outputs": [
    {
     "data": {
      "image/png": "[encoded data removed]",
      "text/plain": [
       "<Figure size 432x288 with 1 Axes>"
      ]
     },
     "metadata": {
      "needs_background": "light"
     },
     "output_type": "display_data"
    }
   ],
   "source": [
    "plt.title('ROC Curve for Heart Failure - Decision Tree')\n",
    "plt.xlabel('False Positive Rate (1-Specificity)')\n",
    "plt.ylabel('True Positive Rate (Sensitivity)')\n",
    "plt.plot([0, 1], [0, 1],'r--')\n",
    "plt.xlim([0, 1])\n",
    "plt.ylim([0, 1])\n",
    "plt.plot(fprDT, tprDT, label = 'AUC =' +str(roc_aucDT), linewidth=4)\n",
    "plt.legend(loc=4)\n",
    "plt.show()"
   ]
  },
  {
   "cell_type": "code",
   "execution_count": 88,
   "id": "5dbfbf3b",
   "metadata": {},
   "outputs": [],
   "source": [
    "DecisionTree =pd.Series({'Model':'Decision Tree','Accuracy':dt_acc,'AUC':roc_aucDT})\n",
    "Compare=Compare.append(DecisionTree,ignore_index=True)"
   ]
  },
  {
   "cell_type": "markdown",
   "id": "15b8bf06",
   "metadata": {},
   "source": [
    "### Random Forest Classifier Model Building"
   ]
  },
  {
   "cell_type": "code",
   "execution_count": 89,
   "id": "0f98a165",
   "metadata": {},
   "outputs": [],
   "source": [
    "r_clf = RandomForestClassifier(max_features=0.5, max_depth=15, random_state=1)\n",
    "r_clf.fit(X_train, y_train)\n",
    "r_pred = r_clf.predict(X_test)\n",
    "r_acc = accuracy_score(y_test, r_pred)\n"
   ]
  },
  {
   "cell_type": "code",
   "execution_count": 90,
   "id": "c7c84476",
   "metadata": {
    "scrolled": true
   },
   "outputs": [
    {
     "name": "stdout",
     "output_type": "stream",
     "text": [
      "Accuracy of Random Forest Classifier is :  88.89%\n"
     ]
    }
   ],
   "source": [
    "print(\"Accuracy of Random Forest Classifier is : \", \"{:.2f}%\".format(100* r_acc))"
   ]
  },
  {
   "cell_type": "markdown",
   "id": "542f285d",
   "metadata": {},
   "source": [
    "### Classifcation report,Confusion matrix,ROC Curve of Random Forest Model"
   ]
  },
  {
   "cell_type": "code",
   "execution_count": 91,
   "id": "1c8a855a",
   "metadata": {
    "scrolled": true
   },
   "outputs": [
    {
     "name": "stdout",
     "output_type": "stream",
     "text": [
      "              precision    recall  f1-score   support\n",
      "\n",
      "           0       0.89      0.95      0.92        62\n",
      "           1       0.88      0.75      0.81        28\n",
      "\n",
      "    accuracy                           0.89        90\n",
      "   macro avg       0.88      0.85      0.86        90\n",
      "weighted avg       0.89      0.89      0.89        90\n",
      "\n"
     ]
    }
   ],
   "source": [
    "print(classification_report(y_test,r_pred))"
   ]
  },
  {
   "cell_type": "code",
   "execution_count": 92,
   "id": "c44f1779",
   "metadata": {},
   "outputs": [
    {
     "data": {
      "text/plain": [
       "array([[59,  3],\n",
       "       [ 7, 21]], dtype=int64)"
      ]
     },
     "execution_count": 92,
     "metadata": {},
     "output_type": "execute_result"
    }
   ],
   "source": [
    "confusion_matrix(y_test,r_pred)"
   ]
  },
  {
   "cell_type": "code",
   "execution_count": 93,
   "id": "cad6cfa5",
   "metadata": {},
   "outputs": [
    {
     "name": "stdout",
     "output_type": "stream",
     "text": [
      "0.8508064516129034\n"
     ]
    }
   ],
   "source": [
    "fprRF, tprRF, thresholds =metrics.roc_curve(y_test, r_pred)\n",
    "roc_aucRF = auc(fprRF,tprRF)\n",
    "print(roc_aucRF)"
   ]
  },
  {
   "cell_type": "code",
   "execution_count": 94,
   "id": "bb3b641f",
   "metadata": {},
   "outputs": [
    {
     "data": {
      "image/png": "[encoded data removed]",
      "text/plain": [
       "<Figure size 432x288 with 1 Axes>"
      ]
     },
     "metadata": {
      "needs_background": "light"
     },
     "output_type": "display_data"
    }
   ],
   "source": [
    "plt.title('ROC Curve for Heart Failure - RandomForest')\n",
    "plt.xlabel('False Positive Rate (1-Specificity)')\n",
    "plt.ylabel('True Positive Rate (Sensitivity)')\n",
    "plt.plot([0, 1], [0, 1],'r--')\n",
    "plt.xlim([0, 1])\n",
    "plt.ylim([0, 1])\n",
    "plt.plot(fprRF, tprRF, label = 'AUC =' +str(roc_aucRF), linewidth=4)\n",
    "plt.legend(loc=4)\n",
    "plt.show()"
   ]
  },
  {
   "cell_type": "code",
   "execution_count": 95,
   "id": "64f68315",
   "metadata": {},
   "outputs": [],
   "source": [
    "RandomForest =pd.Series({'Model':'Random Forest','Accuracy':r_acc,'AUC':roc_aucRF})\n",
    "Compare=Compare.append(RandomForest,ignore_index=True)"
   ]
  },
  {
   "cell_type": "code",
   "execution_count": 96,
   "id": "f68b8be0",
   "metadata": {},
   "outputs": [],
   "source": [
    "\n",
    "\n",
    "gradientboost_clf = GradientBoostingClassifier(max_depth=2, random_state=1)\n",
    "gradientboost_clf.fit(X_train,y_train)\n",
    "gradientboost_pred = gradientboost_clf.predict(X_test)\n",
    "gradientboost_acc = accuracy_score(y_test, gradientboost_pred)\n",
    "\n",
    "fprgb,tprgb,thresholdsgb=metrics.roc_curve(y_test,gradientboost_pred)"
   ]
  },
  {
   "cell_type": "markdown",
   "id": "adb1a16c",
   "metadata": {},
   "source": [
    "### Classification report , Confusion Matrix ,ROC Curve of Gradient Boosting Classifier"
   ]
  },
  {
   "cell_type": "code",
   "execution_count": 97,
   "id": "5b26ae15",
   "metadata": {
    "scrolled": true
   },
   "outputs": [
    {
     "name": "stdout",
     "output_type": "stream",
     "text": [
      "              precision    recall  f1-score   support\n",
      "\n",
      "           0       0.92      0.95      0.94        62\n",
      "           1       0.88      0.82      0.85        28\n",
      "\n",
      "    accuracy                           0.91        90\n",
      "   macro avg       0.90      0.89      0.89        90\n",
      "weighted avg       0.91      0.91      0.91        90\n",
      "\n"
     ]
    }
   ],
   "source": [
    "print(classification_report(y_test,gradientboost_pred))"
   ]
  },
  {
   "cell_type": "code",
   "execution_count": 98,
   "id": "486bf141",
   "metadata": {},
   "outputs": [
    {
     "data": {
      "text/plain": [
       "array([[59,  3],\n",
       "       [ 5, 23]], dtype=int64)"
      ]
     },
     "execution_count": 98,
     "metadata": {},
     "output_type": "execute_result"
    }
   ],
   "source": [
    "confusion_matrix(y_test,gradientboost_pred)"
   ]
  },
  {
   "cell_type": "code",
   "execution_count": 99,
   "id": "0b4ab2a4",
   "metadata": {},
   "outputs": [
    {
     "name": "stdout",
     "output_type": "stream",
     "text": [
      "0.886520737327189\n"
     ]
    }
   ],
   "source": [
    "\n",
    "roc_aucgb = auc(fprgb,tprgb)\n",
    "print(roc_aucgb)"
   ]
  },
  {
   "cell_type": "code",
   "execution_count": 100,
   "id": "5abc83af",
   "metadata": {},
   "outputs": [
    {
     "data": {
      "image/png": "[encoded data removed]",
      "text/plain": [
       "<Figure size 432x288 with 1 Axes>"
      ]
     },
     "metadata": {
      "needs_background": "light"
     },
     "output_type": "display_data"
    }
   ],
   "source": [
    "plt.title('ROC Curve for Admissio - GB')\n",
    "plt.xlabel('False Positive Rate (1-Specificity)')\n",
    "plt.ylabel('True Positive Rate (Sensitivity)')\n",
    "plt.plot([0, 1], [0, 1],'r--')\n",
    "plt.xlim([0, 1])\n",
    "plt.ylim([0, 1])\n",
    "plt.plot(fprgb, tprgb, label = 'AUC =' +str(roc_aucgb), linewidth=4)\n",
    "plt.legend(loc=4)\n",
    "plt.show()\n",
    "\n"
   ]
  },
  {
   "cell_type": "code",
   "execution_count": 101,
   "id": "67cd46a7",
   "metadata": {},
   "outputs": [],
   "source": [
    "\n",
    "\n",
    "gradientboost =pd.Series({'Model':'Gradient boosting','Accuracy':gradientboost_acc,'AUC':roc_aucgb})\n",
    "Compare=Compare.append(gradientboost,ignore_index=True)"
   ]
  },
  {
   "cell_type": "code",
   "execution_count": 102,
   "id": "0d045cce",
   "metadata": {
    "scrolled": true
   },
   "outputs": [
    {
     "name": "stdout",
     "output_type": "stream",
     "text": [
      "Accuracy of Gradient Boosting is :  91.11%\n"
     ]
    }
   ],
   "source": [
    "print( \"Accuracy of Gradient Boosting is : \", \"{:.2f}%\".format(100* gradientboost_acc))"
   ]
  },
  {
   "cell_type": "markdown",
   "id": "b5e2211f",
   "metadata": {},
   "source": [
    "## Comparing  all Models"
   ]
  },
  {
   "cell_type": "code",
   "execution_count": 104,
   "id": "6b3868c3",
   "metadata": {
    "scrolled": true
   },
   "outputs": [
    {
     "data": {
      "text/html": [
       "<div>\n",
       "<style scoped>\n",
       "    .dataframe tbody tr th:only-of-type {\n",
       "        vertical-align: middle;\n",
       "    }\n",
       "\n",
       "    .dataframe tbody tr th {\n",
       "        vertical-align: top;\n",
       "    }\n",
       "\n",
       "    .dataframe thead th {\n",
       "        text-align: right;\n",
       "    }\n",
       "</style>\n",
       "<table border=\"1\" class=\"dataframe\">\n",
       "  <thead>\n",
       "    <tr style=\"text-align: right;\">\n",
       "      <th></th>\n",
       "      <th>Model</th>\n",
       "      <th>Accuracy</th>\n",
       "      <th>AUC</th>\n",
       "    </tr>\n",
       "  </thead>\n",
       "  <tbody>\n",
       "    <tr>\n",
       "      <th>0</th>\n",
       "      <td>LogisticRegression</td>\n",
       "      <td>0.822222</td>\n",
       "      <td>0.763249</td>\n",
       "    </tr>\n",
       "    <tr>\n",
       "      <th>1</th>\n",
       "      <td>KNN</td>\n",
       "      <td>0.588889</td>\n",
       "      <td>0.466590</td>\n",
       "    </tr>\n",
       "    <tr>\n",
       "      <th>2</th>\n",
       "      <td>Decision Tree</td>\n",
       "      <td>0.877778</td>\n",
       "      <td>0.842742</td>\n",
       "    </tr>\n",
       "    <tr>\n",
       "      <th>3</th>\n",
       "      <td>Random Forest</td>\n",
       "      <td>0.888889</td>\n",
       "      <td>0.850806</td>\n",
       "    </tr>\n",
       "    <tr>\n",
       "      <th>4</th>\n",
       "      <td>Gradient boosting</td>\n",
       "      <td>0.911111</td>\n",
       "      <td>0.886521</td>\n",
       "    </tr>\n",
       "  </tbody>\n",
       "</table>\n",
       "</div>"
      ],
      "text/plain": [
       "                Model  Accuracy       AUC\n",
       "0  LogisticRegression  0.822222  0.763249\n",
       "1                 KNN  0.588889  0.466590\n",
       "2       Decision Tree  0.877778  0.842742\n",
       "3       Random Forest  0.888889  0.850806\n",
       "4   Gradient boosting  0.911111  0.886521"
      ]
     },
     "execution_count": 104,
     "metadata": {},
     "output_type": "execute_result"
    }
   ],
   "source": [
    "Compare"
   ]
  },
  {
   "cell_type": "markdown",
   "id": "7932f64f",
   "metadata": {},
   "source": [
    "## Gradient Boosting Classifier and Random Forest Classifier show Highest accuracy and Are Under curve "
   ]
  },
  {
   "cell_type": "code",
   "execution_count": null,
   "id": "be8af374",
   "metadata": {},
   "outputs": [],
   "source": []
  }
 ],
 "metadata": {
  "kernelspec": {
   "display_name": "Python 3",
   "language": "python",
   "name": "python3"
  },
  "language_info": {
   "codemirror_mode": {
    "name": "ipython",
    "version": 3
   },
   "file_extension": ".py",
   "mimetype": "text/x-python",
   "name": "python",
   "nbconvert_exporter": "python",
   "pygments_lexer": "ipython3",
   "version": "3.8.8"
  }
 },
 "nbformat": 4,
 "nbformat_minor": 5
}
